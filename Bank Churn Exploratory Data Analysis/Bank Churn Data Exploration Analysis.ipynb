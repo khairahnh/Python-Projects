{
 "cells": [
  {
   "cell_type": "markdown",
   "id": "2f6cfb50",
   "metadata": {},
   "source": [
    "### Assignment 2:  Exploratory Data Analysis (EDA) of bank_churn.csv"
   ]
  },
  {
   "cell_type": "code",
   "execution_count": 1,
   "id": "28798cd5",
   "metadata": {},
   "outputs": [],
   "source": [
    "#import packages\n",
    "\n",
    "import numpy as np\n",
    "import pandas as pd\n",
    "import matplotlib.pyplot as plt\n",
    "import seaborn as sns\n",
    "import scipy.stats as stats"
   ]
  },
  {
   "cell_type": "code",
   "execution_count": 2,
   "id": "3c801bc5",
   "metadata": {},
   "outputs": [
    {
     "data": {
      "text/html": [
       "<div>\n",
       "<style scoped>\n",
       "    .dataframe tbody tr th:only-of-type {\n",
       "        vertical-align: middle;\n",
       "    }\n",
       "\n",
       "    .dataframe tbody tr th {\n",
       "        vertical-align: top;\n",
       "    }\n",
       "\n",
       "    .dataframe thead th {\n",
       "        text-align: right;\n",
       "    }\n",
       "</style>\n",
       "<table border=\"1\" class=\"dataframe\">\n",
       "  <thead>\n",
       "    <tr style=\"text-align: right;\">\n",
       "      <th></th>\n",
       "      <th>CreditScore</th>\n",
       "      <th>Geography</th>\n",
       "      <th>Gender</th>\n",
       "      <th>Age</th>\n",
       "      <th>Balance</th>\n",
       "      <th>NumOfProducts</th>\n",
       "      <th>HasCrCard</th>\n",
       "      <th>EstimatedSalary</th>\n",
       "      <th>Exited</th>\n",
       "    </tr>\n",
       "  </thead>\n",
       "  <tbody>\n",
       "    <tr>\n",
       "      <th>0</th>\n",
       "      <td>619</td>\n",
       "      <td>France</td>\n",
       "      <td>Female</td>\n",
       "      <td>42</td>\n",
       "      <td>0.00</td>\n",
       "      <td>1</td>\n",
       "      <td>1</td>\n",
       "      <td>101348.88</td>\n",
       "      <td>Churn</td>\n",
       "    </tr>\n",
       "    <tr>\n",
       "      <th>1</th>\n",
       "      <td>608</td>\n",
       "      <td>Spain</td>\n",
       "      <td>Female</td>\n",
       "      <td>41</td>\n",
       "      <td>83807.86</td>\n",
       "      <td>1</td>\n",
       "      <td>0</td>\n",
       "      <td>112542.58</td>\n",
       "      <td>Stay</td>\n",
       "    </tr>\n",
       "    <tr>\n",
       "      <th>2</th>\n",
       "      <td>502</td>\n",
       "      <td>France</td>\n",
       "      <td>Female</td>\n",
       "      <td>42</td>\n",
       "      <td>159660.80</td>\n",
       "      <td>3</td>\n",
       "      <td>1</td>\n",
       "      <td>113931.57</td>\n",
       "      <td>Churn</td>\n",
       "    </tr>\n",
       "    <tr>\n",
       "      <th>3</th>\n",
       "      <td>699</td>\n",
       "      <td>France</td>\n",
       "      <td>Female</td>\n",
       "      <td>39</td>\n",
       "      <td>0.00</td>\n",
       "      <td>2</td>\n",
       "      <td>0</td>\n",
       "      <td>93826.63</td>\n",
       "      <td>Stay</td>\n",
       "    </tr>\n",
       "    <tr>\n",
       "      <th>4</th>\n",
       "      <td>850</td>\n",
       "      <td>Spain</td>\n",
       "      <td>Female</td>\n",
       "      <td>43</td>\n",
       "      <td>125510.82</td>\n",
       "      <td>1</td>\n",
       "      <td>1</td>\n",
       "      <td>79084.10</td>\n",
       "      <td>Stay</td>\n",
       "    </tr>\n",
       "    <tr>\n",
       "      <th>5</th>\n",
       "      <td>645</td>\n",
       "      <td>Spain</td>\n",
       "      <td>Male</td>\n",
       "      <td>44</td>\n",
       "      <td>113755.78</td>\n",
       "      <td>2</td>\n",
       "      <td>1</td>\n",
       "      <td>149756.71</td>\n",
       "      <td>Churn</td>\n",
       "    </tr>\n",
       "    <tr>\n",
       "      <th>6</th>\n",
       "      <td>822</td>\n",
       "      <td>France</td>\n",
       "      <td>Male</td>\n",
       "      <td>50</td>\n",
       "      <td>0.00</td>\n",
       "      <td>2</td>\n",
       "      <td>1</td>\n",
       "      <td>10062.80</td>\n",
       "      <td>Stay</td>\n",
       "    </tr>\n",
       "    <tr>\n",
       "      <th>7</th>\n",
       "      <td>376</td>\n",
       "      <td>Germany</td>\n",
       "      <td>Female</td>\n",
       "      <td>29</td>\n",
       "      <td>115046.74</td>\n",
       "      <td>4</td>\n",
       "      <td>1</td>\n",
       "      <td>119346.88</td>\n",
       "      <td>Churn</td>\n",
       "    </tr>\n",
       "    <tr>\n",
       "      <th>8</th>\n",
       "      <td>501</td>\n",
       "      <td>France</td>\n",
       "      <td>Male</td>\n",
       "      <td>44</td>\n",
       "      <td>142051.07</td>\n",
       "      <td>2</td>\n",
       "      <td>0</td>\n",
       "      <td>74940.50</td>\n",
       "      <td>Stay</td>\n",
       "    </tr>\n",
       "    <tr>\n",
       "      <th>9</th>\n",
       "      <td>684</td>\n",
       "      <td>France</td>\n",
       "      <td>Male</td>\n",
       "      <td>27</td>\n",
       "      <td>134603.88</td>\n",
       "      <td>1</td>\n",
       "      <td>1</td>\n",
       "      <td>71725.73</td>\n",
       "      <td>Stay</td>\n",
       "    </tr>\n",
       "  </tbody>\n",
       "</table>\n",
       "</div>"
      ],
      "text/plain": [
       "   CreditScore Geography  Gender  Age    Balance  NumOfProducts  HasCrCard  \\\n",
       "0          619    France  Female   42       0.00              1          1   \n",
       "1          608     Spain  Female   41   83807.86              1          0   \n",
       "2          502    France  Female   42  159660.80              3          1   \n",
       "3          699    France  Female   39       0.00              2          0   \n",
       "4          850     Spain  Female   43  125510.82              1          1   \n",
       "5          645     Spain    Male   44  113755.78              2          1   \n",
       "6          822    France    Male   50       0.00              2          1   \n",
       "7          376   Germany  Female   29  115046.74              4          1   \n",
       "8          501    France    Male   44  142051.07              2          0   \n",
       "9          684    France    Male   27  134603.88              1          1   \n",
       "\n",
       "   EstimatedSalary Exited  \n",
       "0        101348.88  Churn  \n",
       "1        112542.58   Stay  \n",
       "2        113931.57  Churn  \n",
       "3         93826.63   Stay  \n",
       "4         79084.10   Stay  \n",
       "5        149756.71  Churn  \n",
       "6         10062.80   Stay  \n",
       "7        119346.88  Churn  \n",
       "8         74940.50   Stay  \n",
       "9         71725.73   Stay  "
      ]
     },
     "execution_count": 2,
     "metadata": {},
     "output_type": "execute_result"
    }
   ],
   "source": [
    "#import dataset\n",
    "\n",
    "df = pd.read_csv('bank_churn.csv')\n",
    "df.head(10)"
   ]
  },
  {
   "cell_type": "code",
   "execution_count": 3,
   "id": "bdbf863b",
   "metadata": {},
   "outputs": [
    {
     "data": {
      "text/plain": [
       "(10000, 9)"
      ]
     },
     "execution_count": 3,
     "metadata": {},
     "output_type": "execute_result"
    }
   ],
   "source": [
    "df.shape"
   ]
  },
  {
   "cell_type": "code",
   "execution_count": 4,
   "id": "be7eb6fb",
   "metadata": {},
   "outputs": [
    {
     "data": {
      "text/plain": [
       "CreditScore          int64\n",
       "Geography           object\n",
       "Gender              object\n",
       "Age                  int64\n",
       "Balance            float64\n",
       "NumOfProducts        int64\n",
       "HasCrCard            int64\n",
       "EstimatedSalary    float64\n",
       "Exited              object\n",
       "dtype: object"
      ]
     },
     "execution_count": 4,
     "metadata": {},
     "output_type": "execute_result"
    }
   ],
   "source": [
    "df.dtypes"
   ]
  },
  {
   "cell_type": "code",
   "execution_count": 5,
   "id": "55acb684",
   "metadata": {},
   "outputs": [
    {
     "data": {
      "text/plain": [
       "CreditScore        0\n",
       "Geography          0\n",
       "Gender             0\n",
       "Age                0\n",
       "Balance            0\n",
       "NumOfProducts      0\n",
       "HasCrCard          0\n",
       "EstimatedSalary    0\n",
       "Exited             0\n",
       "dtype: int64"
      ]
     },
     "execution_count": 5,
     "metadata": {},
     "output_type": "execute_result"
    }
   ],
   "source": [
    "#check missing values\n",
    "df.isnull().sum()"
   ]
  },
  {
   "cell_type": "code",
   "execution_count": 6,
   "id": "6e2047a6",
   "metadata": {},
   "outputs": [
    {
     "data": {
      "text/html": [
       "<div>\n",
       "<style scoped>\n",
       "    .dataframe tbody tr th:only-of-type {\n",
       "        vertical-align: middle;\n",
       "    }\n",
       "\n",
       "    .dataframe tbody tr th {\n",
       "        vertical-align: top;\n",
       "    }\n",
       "\n",
       "    .dataframe thead th {\n",
       "        text-align: right;\n",
       "    }\n",
       "</style>\n",
       "<table border=\"1\" class=\"dataframe\">\n",
       "  <thead>\n",
       "    <tr style=\"text-align: right;\">\n",
       "      <th></th>\n",
       "      <th>CreditScore</th>\n",
       "      <th>Geography</th>\n",
       "      <th>Gender</th>\n",
       "      <th>Age</th>\n",
       "      <th>Balance</th>\n",
       "      <th>NumOfProducts</th>\n",
       "      <th>HasCrCard</th>\n",
       "      <th>EstimatedSalary</th>\n",
       "      <th>Exited</th>\n",
       "    </tr>\n",
       "  </thead>\n",
       "  <tbody>\n",
       "  </tbody>\n",
       "</table>\n",
       "</div>"
      ],
      "text/plain": [
       "Empty DataFrame\n",
       "Columns: [CreditScore, Geography, Gender, Age, Balance, NumOfProducts, HasCrCard, EstimatedSalary, Exited]\n",
       "Index: []"
      ]
     },
     "execution_count": 6,
     "metadata": {},
     "output_type": "execute_result"
    }
   ],
   "source": [
    "#check duplicated rows\n",
    "\n",
    "df[df.duplicated(keep=False)]"
   ]
  },
  {
   "cell_type": "markdown",
   "id": "aedfc220",
   "metadata": {},
   "source": [
    "### Conclusion: The data is clean, no missing values and duplicated rows. Proceed to EDA"
   ]
  },
  {
   "cell_type": "markdown",
   "id": "a9998c90",
   "metadata": {},
   "source": [
    "#### 1. Check the class's proportion of `Exited`, `Gender` and `Geography`. Desribe your findings."
   ]
  },
  {
   "cell_type": "code",
   "execution_count": 7,
   "id": "cc1fbcdf",
   "metadata": {},
   "outputs": [
    {
     "data": {
      "text/plain": [
       "Stay     7963\n",
       "Churn    2037\n",
       "Name: Exited, dtype: int64"
      ]
     },
     "execution_count": 7,
     "metadata": {},
     "output_type": "execute_result"
    }
   ],
   "source": [
    "df['Exited'].value_counts()"
   ]
  },
  {
   "cell_type": "code",
   "execution_count": 8,
   "id": "a3e62a72",
   "metadata": {},
   "outputs": [
    {
     "data": {
      "text/plain": [
       "Stay     0.7963\n",
       "Churn    0.2037\n",
       "Name: Exited, dtype: float64"
      ]
     },
     "execution_count": 8,
     "metadata": {},
     "output_type": "execute_result"
    }
   ],
   "source": [
    "df['Exited'].value_counts(normalize=True)"
   ]
  },
  {
   "cell_type": "code",
   "execution_count": 9,
   "id": "016cddf2",
   "metadata": {},
   "outputs": [
    {
     "data": {
      "text/plain": [
       "France     5014\n",
       "Germany    2509\n",
       "Spain      2477\n",
       "Name: Geography, dtype: int64"
      ]
     },
     "execution_count": 9,
     "metadata": {},
     "output_type": "execute_result"
    }
   ],
   "source": [
    "df['Geography'].value_counts()"
   ]
  },
  {
   "cell_type": "code",
   "execution_count": 10,
   "id": "b1c4481f",
   "metadata": {
    "scrolled": true
   },
   "outputs": [
    {
     "data": {
      "text/plain": [
       "Male      5457\n",
       "Female    4543\n",
       "Name: Gender, dtype: int64"
      ]
     },
     "execution_count": 10,
     "metadata": {},
     "output_type": "execute_result"
    }
   ],
   "source": [
    "df['Gender'].value_counts()"
   ]
  },
  {
   "cell_type": "code",
   "execution_count": 11,
   "id": "f9b1da47",
   "metadata": {},
   "outputs": [
    {
     "data": {
      "text/plain": [
       "Male      0.5457\n",
       "Female    0.4543\n",
       "Name: Gender, dtype: float64"
      ]
     },
     "execution_count": 11,
     "metadata": {},
     "output_type": "execute_result"
    }
   ],
   "source": [
    "df['Gender'].value_counts(normalize=True)"
   ]
  },
  {
   "cell_type": "code",
   "execution_count": 12,
   "id": "d7cd3527",
   "metadata": {},
   "outputs": [
    {
     "data": {
      "text/html": [
       "<div>\n",
       "<style scoped>\n",
       "    .dataframe tbody tr th:only-of-type {\n",
       "        vertical-align: middle;\n",
       "    }\n",
       "\n",
       "    .dataframe tbody tr th {\n",
       "        vertical-align: top;\n",
       "    }\n",
       "\n",
       "    .dataframe thead tr th {\n",
       "        text-align: left;\n",
       "    }\n",
       "\n",
       "    .dataframe thead tr:last-of-type th {\n",
       "        text-align: right;\n",
       "    }\n",
       "</style>\n",
       "<table border=\"1\" class=\"dataframe\">\n",
       "  <thead>\n",
       "    <tr>\n",
       "      <th>Exited</th>\n",
       "      <th colspan=\"2\" halign=\"left\">Churn</th>\n",
       "      <th colspan=\"2\" halign=\"left\">Stay</th>\n",
       "      <th>Total</th>\n",
       "    </tr>\n",
       "    <tr>\n",
       "      <th>Gender</th>\n",
       "      <th>Female</th>\n",
       "      <th>Male</th>\n",
       "      <th>Female</th>\n",
       "      <th>Male</th>\n",
       "      <th></th>\n",
       "    </tr>\n",
       "    <tr>\n",
       "      <th>Geography</th>\n",
       "      <th></th>\n",
       "      <th></th>\n",
       "      <th></th>\n",
       "      <th></th>\n",
       "      <th></th>\n",
       "    </tr>\n",
       "  </thead>\n",
       "  <tbody>\n",
       "    <tr>\n",
       "      <th>France</th>\n",
       "      <td>460</td>\n",
       "      <td>350</td>\n",
       "      <td>1801</td>\n",
       "      <td>2403</td>\n",
       "      <td>5014</td>\n",
       "    </tr>\n",
       "    <tr>\n",
       "      <th>Germany</th>\n",
       "      <td>448</td>\n",
       "      <td>366</td>\n",
       "      <td>745</td>\n",
       "      <td>950</td>\n",
       "      <td>2509</td>\n",
       "    </tr>\n",
       "    <tr>\n",
       "      <th>Spain</th>\n",
       "      <td>231</td>\n",
       "      <td>182</td>\n",
       "      <td>858</td>\n",
       "      <td>1206</td>\n",
       "      <td>2477</td>\n",
       "    </tr>\n",
       "    <tr>\n",
       "      <th>Total</th>\n",
       "      <td>1139</td>\n",
       "      <td>898</td>\n",
       "      <td>3404</td>\n",
       "      <td>4559</td>\n",
       "      <td>10000</td>\n",
       "    </tr>\n",
       "  </tbody>\n",
       "</table>\n",
       "</div>"
      ],
      "text/plain": [
       "Exited     Churn        Stay        Total\n",
       "Gender    Female Male Female  Male       \n",
       "Geography                                \n",
       "France       460  350   1801  2403   5014\n",
       "Germany      448  366    745   950   2509\n",
       "Spain        231  182    858  1206   2477\n",
       "Total       1139  898   3404  4559  10000"
      ]
     },
     "execution_count": 12,
     "metadata": {},
     "output_type": "execute_result"
    }
   ],
   "source": [
    "#compare the counts of Exited, Gender and Geography\n",
    "\n",
    "crossTab = pd.crosstab(index = df['Geography'], columns = [df['Exited'], df['Gender']],\n",
    "                                                           margins=True, margins_name = 'Total')\n",
    "crossTab"
   ]
  },
  {
   "cell_type": "code",
   "execution_count": 13,
   "id": "07a099ce",
   "metadata": {},
   "outputs": [
    {
     "data": {
      "text/html": [
       "<div>\n",
       "<style scoped>\n",
       "    .dataframe tbody tr th:only-of-type {\n",
       "        vertical-align: middle;\n",
       "    }\n",
       "\n",
       "    .dataframe tbody tr th {\n",
       "        vertical-align: top;\n",
       "    }\n",
       "\n",
       "    .dataframe thead tr th {\n",
       "        text-align: left;\n",
       "    }\n",
       "\n",
       "    .dataframe thead tr:last-of-type th {\n",
       "        text-align: right;\n",
       "    }\n",
       "</style>\n",
       "<table border=\"1\" class=\"dataframe\">\n",
       "  <thead>\n",
       "    <tr>\n",
       "      <th>Exited</th>\n",
       "      <th colspan=\"2\" halign=\"left\">Churn</th>\n",
       "      <th colspan=\"2\" halign=\"left\">Stay</th>\n",
       "      <th>Total</th>\n",
       "    </tr>\n",
       "    <tr>\n",
       "      <th>Gender</th>\n",
       "      <th>Female</th>\n",
       "      <th>Male</th>\n",
       "      <th>Female</th>\n",
       "      <th>Male</th>\n",
       "      <th></th>\n",
       "    </tr>\n",
       "    <tr>\n",
       "      <th>Geography</th>\n",
       "      <th></th>\n",
       "      <th></th>\n",
       "      <th></th>\n",
       "      <th></th>\n",
       "      <th></th>\n",
       "    </tr>\n",
       "  </thead>\n",
       "  <tbody>\n",
       "    <tr>\n",
       "      <th>France</th>\n",
       "      <td>0.404</td>\n",
       "      <td>0.390</td>\n",
       "      <td>0.529</td>\n",
       "      <td>0.527</td>\n",
       "      <td>0.501</td>\n",
       "    </tr>\n",
       "    <tr>\n",
       "      <th>Germany</th>\n",
       "      <td>0.393</td>\n",
       "      <td>0.408</td>\n",
       "      <td>0.219</td>\n",
       "      <td>0.208</td>\n",
       "      <td>0.251</td>\n",
       "    </tr>\n",
       "    <tr>\n",
       "      <th>Spain</th>\n",
       "      <td>0.203</td>\n",
       "      <td>0.203</td>\n",
       "      <td>0.252</td>\n",
       "      <td>0.265</td>\n",
       "      <td>0.248</td>\n",
       "    </tr>\n",
       "  </tbody>\n",
       "</table>\n",
       "</div>"
      ],
      "text/plain": [
       "Exited     Churn          Stay         Total\n",
       "Gender    Female   Male Female   Male       \n",
       "Geography                                   \n",
       "France     0.404  0.390  0.529  0.527  0.501\n",
       "Germany    0.393  0.408  0.219  0.208  0.251\n",
       "Spain      0.203  0.203  0.252  0.265  0.248"
      ]
     },
     "execution_count": 13,
     "metadata": {},
     "output_type": "execute_result"
    }
   ],
   "source": [
    "#Calculate the proportion of `Gender` and `Exited` and `Geography`\n",
    "crossTab = pd.crosstab(index = df['Geography'], columns = [df['Exited'],df['Gender']], normalize= 'columns')\n",
    "crossTab = pd.crosstab(index = df['Geography'], columns = [df['Exited'],df['Gender']], normalize= 'columns', \n",
    "                       margins=True, margins_name = 'Total')\n",
    "crossTab.round(3)\n"
   ]
  },
  {
   "cell_type": "markdown",
   "id": "bae5f2fe",
   "metadata": {},
   "source": [
    "#### Findings:\n",
    "1. In all countries, the proportion of `Stay` for both genders is 7963 or 0.796: the comparable figure for`churn` is 2037 or 0.2037 \n",
    "2. In France, the highest proportion of `Stay` clients among male is 2403/4559 or 0.527 followed by Spain (0.265) and Germany (0.208).\n",
    "3. The highest proportion of `churn` clients among female is 460/1139 or 0.404 (France) followed by Germany(0.393) and Spain (0.203)"
   ]
  },
  {
   "cell_type": "code",
   "execution_count": 14,
   "id": "0c40004e",
   "metadata": {},
   "outputs": [
    {
     "data": {
      "text/html": [
       "<div>\n",
       "<style scoped>\n",
       "    .dataframe tbody tr th:only-of-type {\n",
       "        vertical-align: middle;\n",
       "    }\n",
       "\n",
       "    .dataframe tbody tr th {\n",
       "        vertical-align: top;\n",
       "    }\n",
       "\n",
       "    .dataframe thead tr th {\n",
       "        text-align: left;\n",
       "    }\n",
       "\n",
       "    .dataframe thead tr:last-of-type th {\n",
       "        text-align: right;\n",
       "    }\n",
       "</style>\n",
       "<table border=\"1\" class=\"dataframe\">\n",
       "  <thead>\n",
       "    <tr>\n",
       "      <th>Exited</th>\n",
       "      <th colspan=\"2\" halign=\"left\">Churn</th>\n",
       "      <th colspan=\"2\" halign=\"left\">Stay</th>\n",
       "    </tr>\n",
       "    <tr>\n",
       "      <th>Gender</th>\n",
       "      <th>Female</th>\n",
       "      <th>Male</th>\n",
       "      <th>Female</th>\n",
       "      <th>Male</th>\n",
       "    </tr>\n",
       "    <tr>\n",
       "      <th>Geography</th>\n",
       "      <th></th>\n",
       "      <th></th>\n",
       "      <th></th>\n",
       "      <th></th>\n",
       "    </tr>\n",
       "  </thead>\n",
       "  <tbody>\n",
       "    <tr>\n",
       "      <th>France</th>\n",
       "      <td>40.4</td>\n",
       "      <td>39.0</td>\n",
       "      <td>52.9</td>\n",
       "      <td>52.7</td>\n",
       "    </tr>\n",
       "    <tr>\n",
       "      <th>Germany</th>\n",
       "      <td>39.3</td>\n",
       "      <td>40.8</td>\n",
       "      <td>21.9</td>\n",
       "      <td>20.8</td>\n",
       "    </tr>\n",
       "    <tr>\n",
       "      <th>Spain</th>\n",
       "      <td>20.3</td>\n",
       "      <td>20.3</td>\n",
       "      <td>25.2</td>\n",
       "      <td>26.5</td>\n",
       "    </tr>\n",
       "  </tbody>\n",
       "</table>\n",
       "</div>"
      ],
      "text/plain": [
       "Exited     Churn         Stay      \n",
       "Gender    Female  Male Female  Male\n",
       "Geography                          \n",
       "France      40.4  39.0   52.9  52.7\n",
       "Germany     39.3  40.8   21.9  20.8\n",
       "Spain       20.3  20.3   25.2  26.5"
      ]
     },
     "execution_count": 14,
     "metadata": {},
     "output_type": "execute_result"
    }
   ],
   "source": [
    "\n",
    "crossTab = pd.crosstab(index = df['Geography'], columns = [df['Exited'],df['Gender']], normalize= 'columns')*100\n",
    "x = crossTab.round(1)\n",
    "x"
   ]
  },
  {
   "cell_type": "code",
   "execution_count": 15,
   "id": "663cb294",
   "metadata": {},
   "outputs": [
    {
     "data": {
      "text/plain": [
       "<Figure size 576x360 with 0 Axes>"
      ]
     },
     "metadata": {},
     "output_type": "display_data"
    },
    {
     "data": {
      "image/png": "[encoded data removed]",
      "text/plain": [
       "<Figure size 432x288 with 1 Axes>"
      ]
     },
     "metadata": {
      "needs_background": "light"
     },
     "output_type": "display_data"
    }
   ],
   "source": [
    "#plot stacked bar \n",
    "\n",
    "#figure size\n",
    "plt.figure(figsize=(8,5))\n",
    "\n",
    "\n",
    "ax = x.plot(kind='bar', stacked=True)\n",
    "plt.title('Gender and Exited by Geography', size=14)\n",
    "plt.ylabel('Percent, %')\n",
    "plt.legend(loc = 'upper left',  bbox_to_anchor=(1, 1))\n",
    "\n",
    "# set the bar label\n",
    "for c in ax.containers:\n",
    "    ax.bar_label(c, label_type='center')\n",
    "\n",
    "plt.show()\n"
   ]
  },
  {
   "cell_type": "markdown",
   "id": "78a251f2",
   "metadata": {},
   "source": [
    "#### 2 Compute mean, median, and standard deviation of `CreditScore` and `Age`"
   ]
  },
  {
   "cell_type": "code",
   "execution_count": 16,
   "id": "0b956ad3",
   "metadata": {},
   "outputs": [
    {
     "data": {
      "text/plain": [
       "650.5288"
      ]
     },
     "execution_count": 16,
     "metadata": {},
     "output_type": "execute_result"
    }
   ],
   "source": [
    "# Compute mean, median and standard deviation of CreditScore\n",
    "\n",
    "df['CreditScore'].mean()"
   ]
  },
  {
   "cell_type": "code",
   "execution_count": 17,
   "id": "82c3c50b",
   "metadata": {
    "scrolled": true
   },
   "outputs": [
    {
     "data": {
      "text/plain": [
       "652.0"
      ]
     },
     "execution_count": 17,
     "metadata": {},
     "output_type": "execute_result"
    }
   ],
   "source": [
    "df['CreditScore'].median()"
   ]
  },
  {
   "cell_type": "code",
   "execution_count": 18,
   "id": "c5eca920",
   "metadata": {},
   "outputs": [
    {
     "data": {
      "text/plain": [
       "96.65329873613035"
      ]
     },
     "execution_count": 18,
     "metadata": {},
     "output_type": "execute_result"
    }
   ],
   "source": [
    "import statistics as st\n",
    "st.stdev(df['CreditScore'])"
   ]
  },
  {
   "cell_type": "code",
   "execution_count": 19,
   "id": "d010dbc9",
   "metadata": {},
   "outputs": [
    {
     "data": {
      "text/plain": [
       "count    10000.00\n",
       "mean       650.53\n",
       "std         96.65\n",
       "min        350.00\n",
       "25%        584.00\n",
       "50%        652.00\n",
       "75%        718.00\n",
       "max        850.00\n",
       "Name: CreditScore, dtype: float64"
      ]
     },
     "execution_count": 19,
     "metadata": {},
     "output_type": "execute_result"
    }
   ],
   "source": [
    "#Alternatively, you can compute mean, median and standard deviation of CreditScore by df.describe()\n",
    "\n",
    "\n",
    "df[\"CreditScore\"].describe().round(2)"
   ]
  },
  {
   "cell_type": "code",
   "execution_count": 20,
   "id": "19a37ca6",
   "metadata": {},
   "outputs": [
    {
     "data": {
      "text/plain": [
       "37.0"
      ]
     },
     "execution_count": 20,
     "metadata": {},
     "output_type": "execute_result"
    }
   ],
   "source": [
    "# Median Age\n",
    "df['Age'].median()"
   ]
  },
  {
   "cell_type": "code",
   "execution_count": 21,
   "id": "b98fbbd3",
   "metadata": {},
   "outputs": [
    {
     "data": {
      "text/plain": [
       "38.9218"
      ]
     },
     "execution_count": 21,
     "metadata": {},
     "output_type": "execute_result"
    }
   ],
   "source": [
    "# Mean Age\n",
    "df['Age'].mean()"
   ]
  },
  {
   "cell_type": "code",
   "execution_count": 22,
   "id": "f355e332",
   "metadata": {},
   "outputs": [
    {
     "data": {
      "text/plain": [
       "10.48780645170461"
      ]
     },
     "execution_count": 22,
     "metadata": {},
     "output_type": "execute_result"
    }
   ],
   "source": [
    "st.stdev(df['Age'])"
   ]
  },
  {
   "cell_type": "code",
   "execution_count": 23,
   "id": "fc4657e1",
   "metadata": {},
   "outputs": [
    {
     "data": {
      "text/plain": [
       "count    10000.00\n",
       "mean        38.92\n",
       "std         10.49\n",
       "min         18.00\n",
       "25%         32.00\n",
       "50%         37.00\n",
       "75%         44.00\n",
       "max         92.00\n",
       "Name: Age, dtype: float64"
      ]
     },
     "execution_count": 23,
     "metadata": {},
     "output_type": "execute_result"
    }
   ],
   "source": [
    "#Alternatively, you can compute mean, median and std deviation of Age by using df.describe()\n",
    "\n",
    "df['Age'].describe().round(2)"
   ]
  },
  {
   "cell_type": "markdown",
   "id": "5f34d943",
   "metadata": {},
   "source": [
    "#### 3 Plot the distribution of `CreditScore` and `Age`. Describe your findings."
   ]
  },
  {
   "cell_type": "code",
   "execution_count": 24,
   "id": "7bfd1555",
   "metadata": {},
   "outputs": [
    {
     "data": {
      "image/png": "[encoded data removed]",
      "text/plain": [
       "<Figure size 720x360 with 1 Axes>"
      ]
     },
     "metadata": {
      "needs_background": "light"
     },
     "output_type": "display_data"
    }
   ],
   "source": [
    "# Distribution of CreditScore\n",
    "\n",
    "\n",
    "plt.figure(figsize=(10,5))\n",
    "plt.hist(df['CreditScore'], bins=10, edgecolor='black', color='pink')\n",
    "plt.xlabel('CreditScore')\n",
    "plt.ylabel('Frequency')\n",
    "plt.xticks(rotation=90) #rotating the xlabel\n",
    "plt.show()"
   ]
  },
  {
   "cell_type": "code",
   "execution_count": 25,
   "id": "5284aacb",
   "metadata": {},
   "outputs": [
    {
     "name": "stderr",
     "output_type": "stream",
     "text": [
      "C:\\Users\\User\\anaconda3\\lib\\site-packages\\seaborn\\distributions.py:2619: FutureWarning: `distplot` is a deprecated function and will be removed in a future version. Please adapt your code to use either `displot` (a figure-level function with similar flexibility) or `histplot` (an axes-level function for histograms).\n",
      "  warnings.warn(msg, FutureWarning)\n"
     ]
    },
    {
     "data": {
      "image/png": "[encoded data removed]",
      "text/plain": [
       "<Figure size 720x360 with 1 Axes>"
      ]
     },
     "metadata": {
      "needs_background": "light"
     },
     "output_type": "display_data"
    }
   ],
   "source": [
    "#plot distribution using Seaborn\n",
    "\n",
    "plt.figure(figsize=(10,5))\n",
    "sns.distplot(df['CreditScore'], bins=10, color='blue' )\n",
    "plt.xticks(rotation=90) #rotating the xlabel\n",
    "plt.show()"
   ]
  },
  {
   "cell_type": "markdown",
   "id": "02026494",
   "metadata": {},
   "source": [
    "### Findings : \n",
    "The distribution of `CreditScore` is fairly normally distributed with a slight left skewed which means the mean and median is slightly equal. The mean of `CreditScore` is 650.53 and the median is 652.00.  The standard deviation value indicate that the average spread of `CreditScore` from its mean is about 96.65."
   ]
  },
  {
   "cell_type": "code",
   "execution_count": 26,
   "id": "98ba7043",
   "metadata": {},
   "outputs": [
    {
     "data": {
      "image/png": "[encoded data removed]",
      "text/plain": [
       "<Figure size 720x360 with 1 Axes>"
      ]
     },
     "metadata": {
      "needs_background": "light"
     },
     "output_type": "display_data"
    }
   ],
   "source": [
    "#Distribution of Age\n",
    "\n",
    "\n",
    "plt.figure(figsize=(10,5))\n",
    "plt.hist(df['Age'], bins=10, edgecolor='black', color='pink')\n",
    "plt.xlabel('Age')\n",
    "plt.ylabel('Frequency')\n",
    "plt.xticks(rotation=90) #rotating the xlabel\n",
    "plt.show()"
   ]
  },
  {
   "cell_type": "code",
   "execution_count": 27,
   "id": "673720c5",
   "metadata": {},
   "outputs": [
    {
     "name": "stderr",
     "output_type": "stream",
     "text": [
      "C:\\Users\\User\\anaconda3\\lib\\site-packages\\seaborn\\distributions.py:2619: FutureWarning: `distplot` is a deprecated function and will be removed in a future version. Please adapt your code to use either `displot` (a figure-level function with similar flexibility) or `histplot` (an axes-level function for histograms).\n",
      "  warnings.warn(msg, FutureWarning)\n"
     ]
    },
    {
     "data": {
      "image/png": "[encoded data removed]",
      "text/plain": [
       "<Figure size 720x360 with 1 Axes>"
      ]
     },
     "metadata": {
      "needs_background": "light"
     },
     "output_type": "display_data"
    }
   ],
   "source": [
    "plt.figure(figsize=(10,5))\n",
    "sns.distplot(df['Age'], bins=10, color='blue' )\n",
    "plt.xticks(rotation=90) #rotating the xlabel\n",
    "plt.show()"
   ]
  },
  {
   "cell_type": "markdown",
   "id": "86afecdb",
   "metadata": {},
   "source": [
    "\n",
    "### Findings\n",
    "The distribution of `Age` is skewed to the right which means that the mean is larger than the median. The mean of `Age` is 38.92 and the median is 37.00.   The standard deviation value indicate that the average spread of `Age` from its mean is about 10.49."
   ]
  },
  {
   "cell_type": "markdown",
   "id": "642719b5",
   "metadata": {},
   "source": [
    "#### 4. Compute the churn rate of the clients"
   ]
  },
  {
   "cell_type": "code",
   "execution_count": 28,
   "id": "a8690a4f",
   "metadata": {},
   "outputs": [
    {
     "data": {
      "text/plain": [
       "Churn    2037\n",
       "Stay     7963\n",
       "Name: Exited, dtype: int64"
      ]
     },
     "execution_count": 28,
     "metadata": {},
     "output_type": "execute_result"
    }
   ],
   "source": [
    "df['Exited'].value_counts(ascending = True)"
   ]
  },
  {
   "cell_type": "code",
   "execution_count": 29,
   "id": "359b0081",
   "metadata": {},
   "outputs": [
    {
     "data": {
      "image/png": "[encoded data removed]",
      "text/plain": [
       "<Figure size 432x288 with 1 Axes>"
      ]
     },
     "metadata": {
      "needs_background": "light"
     },
     "output_type": "display_data"
    }
   ],
   "source": [
    "ax = sns.countplot(x='Exited', data=df)\n",
    "\n",
    "abs_values = df['Exited'].value_counts(ascending = True)\n",
    "rel_values = df['Exited'].value_counts(ascending = True, normalize=True)*100\n",
    "labels = [f\"{p[0]} ({p[1]:.0f}%)\" for p in zip(abs_values, rel_values)]\n",
    "ax.bar_label(container=ax.containers[0], labels=labels)\n",
    "\n",
    "\n",
    "\n",
    "plt.show()"
   ]
  },
  {
   "cell_type": "markdown",
   "id": "f4e52f13",
   "metadata": {},
   "source": [
    "### Findings\n",
    "The churn rate is about 20% which means it has low numbers of clients to stop using the bank's service. "
   ]
  },
  {
   "cell_type": "markdown",
   "id": "81fabf8d",
   "metadata": {},
   "source": [
    " #### 5. Is there any correlation between `CreditScore` and `Age`?"
   ]
  },
  {
   "cell_type": "code",
   "execution_count": 30,
   "id": "83a22387",
   "metadata": {},
   "outputs": [
    {
     "data": {
      "text/plain": [
       "-0.0039649055253900695"
      ]
     },
     "execution_count": 30,
     "metadata": {},
     "output_type": "execute_result"
    }
   ],
   "source": [
    "#calculate correlation\n",
    "corr_1 = df['CreditScore'].corr(df['Age'])\n",
    "corr_1"
   ]
  },
  {
   "cell_type": "markdown",
   "id": "c86c28ef",
   "metadata": {},
   "source": [
    "### Finding\n",
    "The correlation coefficient indicates that there is a negative correlation (-0.003965) between `CreditScore` and `Age`. The `CreditScore` is not affected by `Age`"
   ]
  },
  {
   "cell_type": "markdown",
   "id": "5a7a94d9",
   "metadata": {},
   "source": [
    "#### 6. Describe the `Exited` based on `Geography`. Compute the churn rate based on `Geography`."
   ]
  },
  {
   "cell_type": "code",
   "execution_count": 31,
   "id": "032eaa36",
   "metadata": {},
   "outputs": [
    {
     "data": {
      "text/html": [
       "<div>\n",
       "<style scoped>\n",
       "    .dataframe tbody tr th:only-of-type {\n",
       "        vertical-align: middle;\n",
       "    }\n",
       "\n",
       "    .dataframe tbody tr th {\n",
       "        vertical-align: top;\n",
       "    }\n",
       "\n",
       "    .dataframe thead th {\n",
       "        text-align: right;\n",
       "    }\n",
       "</style>\n",
       "<table border=\"1\" class=\"dataframe\">\n",
       "  <thead>\n",
       "    <tr style=\"text-align: right;\">\n",
       "      <th>Exited</th>\n",
       "      <th>Churn</th>\n",
       "      <th>Stay</th>\n",
       "      <th>Total</th>\n",
       "    </tr>\n",
       "    <tr>\n",
       "      <th>Geography</th>\n",
       "      <th></th>\n",
       "      <th></th>\n",
       "      <th></th>\n",
       "    </tr>\n",
       "  </thead>\n",
       "  <tbody>\n",
       "    <tr>\n",
       "      <th>France</th>\n",
       "      <td>810</td>\n",
       "      <td>4204</td>\n",
       "      <td>5014</td>\n",
       "    </tr>\n",
       "    <tr>\n",
       "      <th>Germany</th>\n",
       "      <td>814</td>\n",
       "      <td>1695</td>\n",
       "      <td>2509</td>\n",
       "    </tr>\n",
       "    <tr>\n",
       "      <th>Spain</th>\n",
       "      <td>413</td>\n",
       "      <td>2064</td>\n",
       "      <td>2477</td>\n",
       "    </tr>\n",
       "    <tr>\n",
       "      <th>Total</th>\n",
       "      <td>2037</td>\n",
       "      <td>7963</td>\n",
       "      <td>10000</td>\n",
       "    </tr>\n",
       "  </tbody>\n",
       "</table>\n",
       "</div>"
      ],
      "text/plain": [
       "Exited     Churn  Stay  Total\n",
       "Geography                    \n",
       "France       810  4204   5014\n",
       "Germany      814  1695   2509\n",
       "Spain        413  2064   2477\n",
       "Total       2037  7963  10000"
      ]
     },
     "execution_count": 31,
     "metadata": {},
     "output_type": "execute_result"
    }
   ],
   "source": [
    "geo_exited_crossTab = pd.crosstab(index = df['Geography'], columns = df['Exited'], margins=True, margins_name= 'Total')\n",
    "geo_exited_crossTab"
   ]
  },
  {
   "cell_type": "code",
   "execution_count": 32,
   "id": "3f8eb722",
   "metadata": {},
   "outputs": [
    {
     "data": {
      "text/html": [
       "<div>\n",
       "<style scoped>\n",
       "    .dataframe tbody tr th:only-of-type {\n",
       "        vertical-align: middle;\n",
       "    }\n",
       "\n",
       "    .dataframe tbody tr th {\n",
       "        vertical-align: top;\n",
       "    }\n",
       "\n",
       "    .dataframe thead th {\n",
       "        text-align: right;\n",
       "    }\n",
       "</style>\n",
       "<table border=\"1\" class=\"dataframe\">\n",
       "  <thead>\n",
       "    <tr style=\"text-align: right;\">\n",
       "      <th>Exited</th>\n",
       "      <th>Churn</th>\n",
       "      <th>Stay</th>\n",
       "    </tr>\n",
       "    <tr>\n",
       "      <th>Geography</th>\n",
       "      <th></th>\n",
       "      <th></th>\n",
       "    </tr>\n",
       "  </thead>\n",
       "  <tbody>\n",
       "    <tr>\n",
       "      <th>France</th>\n",
       "      <td>16.2</td>\n",
       "      <td>83.8</td>\n",
       "    </tr>\n",
       "    <tr>\n",
       "      <th>Germany</th>\n",
       "      <td>32.4</td>\n",
       "      <td>67.6</td>\n",
       "    </tr>\n",
       "    <tr>\n",
       "      <th>Spain</th>\n",
       "      <td>16.7</td>\n",
       "      <td>83.3</td>\n",
       "    </tr>\n",
       "  </tbody>\n",
       "</table>\n",
       "</div>"
      ],
      "text/plain": [
       "Exited     Churn  Stay\n",
       "Geography             \n",
       "France      16.2  83.8\n",
       "Germany     32.4  67.6\n",
       "Spain       16.7  83.3"
      ]
     },
     "execution_count": 32,
     "metadata": {},
     "output_type": "execute_result"
    }
   ],
   "source": [
    "geo_exited_crossTab = pd.crosstab(index = df['Geography'], columns = df['Exited'], normalize='index')*100\n",
    "f = geo_exited_crossTab.round(1)\n",
    "f"
   ]
  },
  {
   "cell_type": "code",
   "execution_count": 33,
   "id": "c64378bc",
   "metadata": {},
   "outputs": [
    {
     "data": {
      "text/plain": [
       "<Figure size 864x576 with 0 Axes>"
      ]
     },
     "metadata": {},
     "output_type": "display_data"
    },
    {
     "data": {
      "image/png": "[encoded data removed]",
      "text/plain": [
       "<Figure size 432x288 with 1 Axes>"
      ]
     },
     "metadata": {
      "needs_background": "light"
     },
     "output_type": "display_data"
    }
   ],
   "source": [
    "#figure size\n",
    "plt.figure(figsize=(12,8))\n",
    "\n",
    "\n",
    "ax = f.plot(kind='bar')\n",
    "plt.title('Exited by Geography', size=14)\n",
    "plt.ylabel('Percent, %')\n",
    "plt.legend(loc = 'upper left',  bbox_to_anchor=(1, 1))\n",
    "plt.grid(True)\n",
    "\n",
    "# set the bar label\n",
    "for c in ax.containers:\n",
    "    ax.bar_label(c, label_type='center')\n",
    "\n",
    "plt.show()"
   ]
  },
  {
   "cell_type": "code",
   "execution_count": 46,
   "id": "cced7bbc",
   "metadata": {},
   "outputs": [
    {
     "data": {
      "text/html": [
       "<div>\n",
       "<style scoped>\n",
       "    .dataframe tbody tr th:only-of-type {\n",
       "        vertical-align: middle;\n",
       "    }\n",
       "\n",
       "    .dataframe tbody tr th {\n",
       "        vertical-align: top;\n",
       "    }\n",
       "\n",
       "    .dataframe thead th {\n",
       "        text-align: right;\n",
       "    }\n",
       "</style>\n",
       "<table border=\"1\" class=\"dataframe\">\n",
       "  <thead>\n",
       "    <tr style=\"text-align: right;\">\n",
       "      <th>Exited</th>\n",
       "      <th>Churn</th>\n",
       "      <th>Stay</th>\n",
       "    </tr>\n",
       "    <tr>\n",
       "      <th>Geography</th>\n",
       "      <th></th>\n",
       "      <th></th>\n",
       "    </tr>\n",
       "  </thead>\n",
       "  <tbody>\n",
       "    <tr>\n",
       "      <th>France</th>\n",
       "      <td>810</td>\n",
       "      <td>4204</td>\n",
       "    </tr>\n",
       "    <tr>\n",
       "      <th>Germany</th>\n",
       "      <td>814</td>\n",
       "      <td>1695</td>\n",
       "    </tr>\n",
       "    <tr>\n",
       "      <th>Spain</th>\n",
       "      <td>413</td>\n",
       "      <td>2064</td>\n",
       "    </tr>\n",
       "  </tbody>\n",
       "</table>\n",
       "</div>"
      ],
      "text/plain": [
       "Exited     Churn  Stay\n",
       "Geography             \n",
       "France       810  4204\n",
       "Germany      814  1695\n",
       "Spain        413  2064"
      ]
     },
     "execution_count": 46,
     "metadata": {},
     "output_type": "execute_result"
    }
   ],
   "source": [
    "geo_exited = pd.crosstab(index = df['Geography'], columns = df['Exited'])\n",
    "geo_exited"
   ]
  },
  {
   "cell_type": "code",
   "execution_count": 45,
   "id": "265c30e7",
   "metadata": {},
   "outputs": [
    {
     "data": {
      "text/plain": [
       "(301.25533682434536,\n",
       " 3.8303176053541544e-66,\n",
       " 2,\n",
       " array([[1021.3518, 3992.6482],\n",
       "        [ 511.0833, 1997.9167],\n",
       "        [ 504.5649, 1972.4351]]))"
      ]
     },
     "execution_count": 45,
     "metadata": {},
     "output_type": "execute_result"
    }
   ],
   "source": [
    "import scipy.stats as stats\n",
    "\n",
    "geo_exited = pd.crosstab(index = df['Geography'], columns = df['Exited'])\n",
    "\n",
    "c, p, dof, expected = stats.chi2_contingency(geo_exited)\n",
    "c, p, dof, expected"
   ]
  },
  {
   "cell_type": "markdown",
   "id": "900af92b",
   "metadata": {},
   "source": [
    "### Findings\n",
    "1. France has the highest count of client who stay with the bank after 5 years amounting to **4204 or 83.8%**, \n",
    "followed Spain(**2064 or 67.6%**) and Germany(**1695 or 83.3%**)\n",
    "\n",
    "2. Meanwhile Germany has the highest count of clients (**32.4%**) to churn from the bank after 5 years,\n",
    "followed by Spain (**16.7%**) and France (**16.2%**).  \n",
    "\n",
    "3. The p-value is 0.00 which is less than 0.05. Accept null hypothesis. There is significant different of churn rate observed between countries. \n",
    "\n",
    "4. The churn activity is influence by country. There is higher chances of clients in Germany churn compare to France and Spain. "
   ]
  },
  {
   "cell_type": "markdown",
   "id": "da21134a",
   "metadata": {},
   "source": [
    "#### 7 Investigate if there is a significant different of `CreditScore` between Male and Female"
   ]
  },
  {
   "cell_type": "code",
   "execution_count": 48,
   "id": "8d9ba48c",
   "metadata": {},
   "outputs": [
    {
     "data": {
      "text/plain": [
       "<AxesSubplot:>"
      ]
     },
     "execution_count": 48,
     "metadata": {},
     "output_type": "execute_result"
    },
    {
     "data": {
      "image/png": "[encoded data removed]",
      "text/plain": [
       "<Figure size 432x288 with 1 Axes>"
      ]
     },
     "metadata": {
      "needs_background": "light"
     },
     "output_type": "display_data"
    }
   ],
   "source": [
    "meanCreditScore_Gender = df.groupby('Gender', as_index=False)['CreditScore'].mean()\n",
    "meanCreditScore_Gender.plot(kind='bar')"
   ]
  },
  {
   "cell_type": "code",
   "execution_count": 49,
   "id": "2b934442",
   "metadata": {},
   "outputs": [
    {
     "data": {
      "text/html": [
       "<div>\n",
       "<style scoped>\n",
       "    .dataframe tbody tr th:only-of-type {\n",
       "        vertical-align: middle;\n",
       "    }\n",
       "\n",
       "    .dataframe tbody tr th {\n",
       "        vertical-align: top;\n",
       "    }\n",
       "\n",
       "    .dataframe thead th {\n",
       "        text-align: right;\n",
       "    }\n",
       "</style>\n",
       "<table border=\"1\" class=\"dataframe\">\n",
       "  <thead>\n",
       "    <tr style=\"text-align: right;\">\n",
       "      <th></th>\n",
       "      <th>Gender</th>\n",
       "      <th>CreditScore</th>\n",
       "    </tr>\n",
       "  </thead>\n",
       "  <tbody>\n",
       "    <tr>\n",
       "      <th>0</th>\n",
       "      <td>Female</td>\n",
       "      <td>650.83</td>\n",
       "    </tr>\n",
       "    <tr>\n",
       "      <th>1</th>\n",
       "      <td>Male</td>\n",
       "      <td>650.28</td>\n",
       "    </tr>\n",
       "  </tbody>\n",
       "</table>\n",
       "</div>"
      ],
      "text/plain": [
       "   Gender  CreditScore\n",
       "0  Female       650.83\n",
       "1    Male       650.28"
      ]
     },
     "execution_count": 49,
     "metadata": {},
     "output_type": "execute_result"
    }
   ],
   "source": [
    "meanCreditScore_Gender.round(2)"
   ]
  },
  {
   "cell_type": "code",
   "execution_count": 34,
   "id": "7cd7af60",
   "metadata": {},
   "outputs": [
    {
     "data": {
      "text/plain": [
       "LeveneResult(statistic=0.0038463214526727116, pvalue=0.9505491651289774)"
      ]
     },
     "execution_count": 34,
     "metadata": {},
     "output_type": "execute_result"
    }
   ],
   "source": [
    "#Check whether CreditScore for Male and Female have equal variance or not using Levene's Test\n",
    "\n",
    "stats.levene(df['CreditScore'][df['Gender']=='Male'],\n",
    "             df['CreditScore'][df['Gender']=='Female'],\n",
    "             center = 'mean'\n",
    "            )"
   ]
  },
  {
   "cell_type": "markdown",
   "id": "d49ed710",
   "metadata": {},
   "source": [
    "## Findings\n",
    "From Levene Test, the p-value is **0.950** which is *$\\geq$ 0.05*. This indicates that the variances are not significantly different from each other.The male and female have equal variance of `CreditScore`."
   ]
  },
  {
   "cell_type": "code",
   "execution_count": 35,
   "id": "fa965fe3",
   "metadata": {},
   "outputs": [
    {
     "data": {
      "text/plain": [
       "Ttest_indResult(statistic=-0.2856346098463999, pvalue=0.7751639097068665)"
      ]
     },
     "execution_count": 35,
     "metadata": {},
     "output_type": "execute_result"
    }
   ],
   "source": [
    "#Evaluate Significant Difference of Mean of CreditScore between male and female using independent t-test\n",
    "\n",
    "\n",
    "stats.ttest_ind(df['CreditScore'][df['Gender']=='Male'],\n",
    "             df['CreditScore'][df['Gender']=='Female'])\n",
    "\n"
   ]
  },
  {
   "cell_type": "markdown",
   "id": "d3d214c8",
   "metadata": {},
   "source": [
    "## Findings\n",
    "1. The p-value is 0.7756, which is > 0.05. \n",
    "2. This indicates that the mean `CreditScore` of Male has no significantly difference than the female. \n",
    "3. Therefore, we accept null hypothesis (H0).\n",
    "3. There is no statistically significant different of `CreditScore` between Male and Female. \n",
    "4. The`CreditScore`isn't affected by `Gender`\n"
   ]
  },
  {
   "cell_type": "markdown",
   "id": "dba164b5",
   "metadata": {},
   "source": [
    "#### 8 Did the `Age` influence `Exited` status of the client?"
   ]
  },
  {
   "cell_type": "code",
   "execution_count": 36,
   "id": "d3cc41d4",
   "metadata": {},
   "outputs": [
    {
     "data": {
      "text/html": [
       "<div>\n",
       "<style scoped>\n",
       "    .dataframe tbody tr th:only-of-type {\n",
       "        vertical-align: middle;\n",
       "    }\n",
       "\n",
       "    .dataframe tbody tr th {\n",
       "        vertical-align: top;\n",
       "    }\n",
       "\n",
       "    .dataframe thead th {\n",
       "        text-align: right;\n",
       "    }\n",
       "</style>\n",
       "<table border=\"1\" class=\"dataframe\">\n",
       "  <thead>\n",
       "    <tr style=\"text-align: right;\">\n",
       "      <th></th>\n",
       "      <th>Exited</th>\n",
       "      <th>Age</th>\n",
       "    </tr>\n",
       "  </thead>\n",
       "  <tbody>\n",
       "    <tr>\n",
       "      <th>0</th>\n",
       "      <td>Churn</td>\n",
       "      <td>44.84</td>\n",
       "    </tr>\n",
       "    <tr>\n",
       "      <th>1</th>\n",
       "      <td>Stay</td>\n",
       "      <td>37.41</td>\n",
       "    </tr>\n",
       "  </tbody>\n",
       "</table>\n",
       "</div>"
      ],
      "text/plain": [
       "  Exited    Age\n",
       "0  Churn  44.84\n",
       "1   Stay  37.41"
      ]
     },
     "execution_count": 36,
     "metadata": {},
     "output_type": "execute_result"
    }
   ],
   "source": [
    "meanAge= df.groupby('Exited', as_index=False)['Age'].mean()\n",
    "round(meanAge,2)"
   ]
  },
  {
   "cell_type": "code",
   "execution_count": 37,
   "id": "59487319",
   "metadata": {},
   "outputs": [
    {
     "data": {
      "text/plain": [
       "LeveneResult(statistic=9.128972569564093, pvalue=0.0025222933821052586)"
      ]
     },
     "execution_count": 37,
     "metadata": {},
     "output_type": "execute_result"
    }
   ],
   "source": [
    "#Check whether Age for Churn and Stay have equal variance or not using Levene's Test\n",
    "\n",
    "stats.levene(df['Age'][df['Exited']=='Churn'],\n",
    "             df['Age'][df['Exited']=='Stay'],\n",
    "             center = 'mean'\n",
    "            )"
   ]
  },
  {
   "cell_type": "markdown",
   "id": "4a9f91cb",
   "metadata": {},
   "source": [
    "## Findings:\n",
    "From Levene Test, the p-value is **0.0025** which is **< 0.05**. This indicates that the exited (churn and stay) have no equal variance of `Age`."
   ]
  },
  {
   "cell_type": "code",
   "execution_count": 38,
   "id": "c03d9796",
   "metadata": {},
   "outputs": [
    {
     "data": {
      "text/plain": [
       "Ttest_indResult(statistic=-30.41919720440679, pvalue=4.7127272656641046e-179)"
      ]
     },
     "execution_count": 38,
     "metadata": {},
     "output_type": "execute_result"
    }
   ],
   "source": [
    "#Evaluate Significant Difference of Mean of Age between Stay and Churn using independent t-test\n",
    "\n",
    "\n",
    "stats.ttest_ind(df['Age'][df['Exited']=='Stay'],\n",
    "             df['Age'][df['Exited']=='Churn'], equal_var=False)\n",
    "\n"
   ]
  },
  {
   "cell_type": "markdown",
   "id": "e2d74b6a",
   "metadata": {},
   "source": [
    "### Findings\n",
    "p-value obtained from independent T-Test is 0.000 (< 0.05) indicates that the mean `Age` with Churn is  significantly difference** than `Age` with Stay. Accept alternative hypothesis.\n",
    "\n",
    "The `Age` is significantly affected the`Exited` status. "
   ]
  },
  {
   "cell_type": "markdown",
   "id": "6b7f7500",
   "metadata": {},
   "source": [
    "#### 9. Did the `CreditScore` influence the `Exited` status of the client?"
   ]
  },
  {
   "cell_type": "code",
   "execution_count": 39,
   "id": "fda2caa4",
   "metadata": {},
   "outputs": [
    {
     "data": {
      "text/html": [
       "<div>\n",
       "<style scoped>\n",
       "    .dataframe tbody tr th:only-of-type {\n",
       "        vertical-align: middle;\n",
       "    }\n",
       "\n",
       "    .dataframe tbody tr th {\n",
       "        vertical-align: top;\n",
       "    }\n",
       "\n",
       "    .dataframe thead th {\n",
       "        text-align: right;\n",
       "    }\n",
       "</style>\n",
       "<table border=\"1\" class=\"dataframe\">\n",
       "  <thead>\n",
       "    <tr style=\"text-align: right;\">\n",
       "      <th></th>\n",
       "      <th>Exited</th>\n",
       "      <th>CreditScore</th>\n",
       "    </tr>\n",
       "  </thead>\n",
       "  <tbody>\n",
       "    <tr>\n",
       "      <th>0</th>\n",
       "      <td>Churn</td>\n",
       "      <td>645.35</td>\n",
       "    </tr>\n",
       "    <tr>\n",
       "      <th>1</th>\n",
       "      <td>Stay</td>\n",
       "      <td>651.85</td>\n",
       "    </tr>\n",
       "  </tbody>\n",
       "</table>\n",
       "</div>"
      ],
      "text/plain": [
       "  Exited  CreditScore\n",
       "0  Churn       645.35\n",
       "1   Stay       651.85"
      ]
     },
     "execution_count": 39,
     "metadata": {},
     "output_type": "execute_result"
    }
   ],
   "source": [
    "mean_CreditScore = df.groupby('Exited', as_index=False)['CreditScore'].mean()\n",
    "round(mean_CreditScore,2)"
   ]
  },
  {
   "cell_type": "code",
   "execution_count": 40,
   "id": "32db2945",
   "metadata": {},
   "outputs": [
    {
     "data": {
      "text/plain": [
       "LeveneResult(statistic=5.500109918359457, pvalue=0.019034723520343893)"
      ]
     },
     "execution_count": 40,
     "metadata": {},
     "output_type": "execute_result"
    }
   ],
   "source": [
    "#Check whether CreditScore for Churn and Stay have equal variance or not using Levene's Test\n",
    "\n",
    "stats.levene(df['CreditScore'][df['Exited']=='Churn'],\n",
    "             df['CreditScore'][df['Exited']=='Stay'],\n",
    "             center = 'mean'\n",
    "            )"
   ]
  },
  {
   "cell_type": "markdown",
   "id": "2662fcab",
   "metadata": {},
   "source": [
    "### Findings\n",
    "From Levene Test, the p-value is **0.019** which is **< 0.05**. This indicates that type of Exited have no equal variance of `CreditScore`"
   ]
  },
  {
   "cell_type": "code",
   "execution_count": 41,
   "id": "c07a3499",
   "metadata": {},
   "outputs": [
    {
     "data": {
      "text/plain": [
       "Ttest_indResult(statistic=2.634660543657579, pvalue=0.008464728991832877)"
      ]
     },
     "execution_count": 41,
     "metadata": {},
     "output_type": "execute_result"
    }
   ],
   "source": [
    "#Evaluate Significant Difference of Mean of CreditScore between Stay and Churn using independent t-test\n",
    "\n",
    "\n",
    "stats.ttest_ind(df['CreditScore'][df['Exited']=='Stay'],\n",
    "             df['CreditScore'][df['Exited']=='Churn'], equal_var=False)\n"
   ]
  },
  {
   "cell_type": "markdown",
   "id": "222a2a63",
   "metadata": {},
   "source": [
    "### Findings\n",
    "   p-value obtained from independent T-Test is **0.01 (<0.05)** indicates that the mean `CreditScore` with Churn is **statistically significant difference** than `CreditScore` with Stay. Accept alternative hypothesis. \n",
    "\n",
    "The `CreditScore` is significantly influenced the `Exited` status. "
   ]
  },
  {
   "cell_type": "markdown",
   "id": "008f8cbc",
   "metadata": {},
   "source": [
    "#### 10. Investigate if `Male` is likely to churn compare to `Female`."
   ]
  },
  {
   "cell_type": "code",
   "execution_count": 42,
   "id": "11dc0996",
   "metadata": {},
   "outputs": [
    {
     "data": {
      "text/html": [
       "<div>\n",
       "<style scoped>\n",
       "    .dataframe tbody tr th:only-of-type {\n",
       "        vertical-align: middle;\n",
       "    }\n",
       "\n",
       "    .dataframe tbody tr th {\n",
       "        vertical-align: top;\n",
       "    }\n",
       "\n",
       "    .dataframe thead th {\n",
       "        text-align: right;\n",
       "    }\n",
       "</style>\n",
       "<table border=\"1\" class=\"dataframe\">\n",
       "  <thead>\n",
       "    <tr style=\"text-align: right;\">\n",
       "      <th>Exited</th>\n",
       "      <th>Churn</th>\n",
       "      <th>Stay</th>\n",
       "    </tr>\n",
       "    <tr>\n",
       "      <th>Gender</th>\n",
       "      <th></th>\n",
       "      <th></th>\n",
       "    </tr>\n",
       "  </thead>\n",
       "  <tbody>\n",
       "    <tr>\n",
       "      <th>Female</th>\n",
       "      <td>1139</td>\n",
       "      <td>3404</td>\n",
       "    </tr>\n",
       "    <tr>\n",
       "      <th>Male</th>\n",
       "      <td>898</td>\n",
       "      <td>4559</td>\n",
       "    </tr>\n",
       "  </tbody>\n",
       "</table>\n",
       "</div>"
      ],
      "text/plain": [
       "Exited  Churn  Stay\n",
       "Gender             \n",
       "Female   1139  3404\n",
       "Male      898  4559"
      ]
     },
     "execution_count": 42,
     "metadata": {},
     "output_type": "execute_result"
    }
   ],
   "source": [
    "gender_churn = pd.crosstab(index=df['Gender'], columns = df['Exited'])\n",
    "gender_churn"
   ]
  },
  {
   "cell_type": "code",
   "execution_count": 54,
   "id": "2faa130f",
   "metadata": {},
   "outputs": [
    {
     "data": {
      "text/html": [
       "<div>\n",
       "<style scoped>\n",
       "    .dataframe tbody tr th:only-of-type {\n",
       "        vertical-align: middle;\n",
       "    }\n",
       "\n",
       "    .dataframe tbody tr th {\n",
       "        vertical-align: top;\n",
       "    }\n",
       "\n",
       "    .dataframe thead th {\n",
       "        text-align: right;\n",
       "    }\n",
       "</style>\n",
       "<table border=\"1\" class=\"dataframe\">\n",
       "  <thead>\n",
       "    <tr style=\"text-align: right;\">\n",
       "      <th>Exited</th>\n",
       "      <th>Churn</th>\n",
       "      <th>Stay</th>\n",
       "    </tr>\n",
       "    <tr>\n",
       "      <th>Gender</th>\n",
       "      <th></th>\n",
       "      <th></th>\n",
       "    </tr>\n",
       "  </thead>\n",
       "  <tbody>\n",
       "    <tr>\n",
       "      <th>Female</th>\n",
       "      <td>56.0</td>\n",
       "      <td>43.0</td>\n",
       "    </tr>\n",
       "    <tr>\n",
       "      <th>Male</th>\n",
       "      <td>44.0</td>\n",
       "      <td>57.0</td>\n",
       "    </tr>\n",
       "  </tbody>\n",
       "</table>\n",
       "</div>"
      ],
      "text/plain": [
       "Exited  Churn  Stay\n",
       "Gender             \n",
       "Female   56.0  43.0\n",
       "Male     44.0  57.0"
      ]
     },
     "execution_count": 54,
     "metadata": {},
     "output_type": "execute_result"
    }
   ],
   "source": [
    "gender_churn = pd.crosstab(index=df['Gender'], columns = df['Exited'], normalize='columns')*100\n",
    "gender_churn.round()"
   ]
  },
  {
   "cell_type": "code",
   "execution_count": 43,
   "id": "a2d1de43",
   "metadata": {},
   "outputs": [
    {
     "data": {
      "image/png": "[encoded data removed]",
      "text/plain": [
       "<Figure size 432x288 with 1 Axes>"
      ]
     },
     "metadata": {
      "needs_background": "light"
     },
     "output_type": "display_data"
    }
   ],
   "source": [
    "# cross tabulation bar chart\n",
    "\n",
    "x = pd.crosstab(index=df['Exited'], columns = df['Gender'], normalize='index')*100\n",
    "x.plot(kind='bar')\n",
    "plt.title('Exited by Gender')\n",
    "plt.ylabel('Percent, %')\n",
    "plt.legend(loc = 'upper left',  bbox_to_anchor=(1, 1))\n",
    "plt.show()"
   ]
  },
  {
   "cell_type": "markdown",
   "id": "04bdfc87",
   "metadata": {},
   "source": [
    "+ Proportion of male to `churn` is lower than female"
   ]
  },
  {
   "cell_type": "code",
   "execution_count": 47,
   "id": "cccf5534",
   "metadata": {},
   "outputs": [
    {
     "data": {
      "text/plain": [
       "0.0"
      ]
     },
     "execution_count": 47,
     "metadata": {},
     "output_type": "execute_result"
    }
   ],
   "source": [
    "import scipy.stats as stats\n",
    "\n",
    "c, p, dof, expected = stats.chi2_contingency(gender_churn)\n",
    "p.round(3)"
   ]
  },
  {
   "cell_type": "markdown",
   "id": "ac5e253e",
   "metadata": {},
   "source": [
    "### Findings\n",
    "\n",
    "+ The p-value is 0.0 which is less than 0.05. Therefore there is statistically significant difference of proportion between Churn and Stay by Gender\n",
    "+ Accept alternative hypothesis. \n"
   ]
  },
  {
   "cell_type": "code",
   "execution_count": null,
   "id": "2ade86bc",
   "metadata": {},
   "outputs": [],
   "source": []
  }
 ],
 "metadata": {
  "kernelspec": {
   "display_name": "Python 3 (ipykernel)",
   "language": "python",
   "name": "python3"
  },
  "language_info": {
   "codemirror_mode": {
    "name": "ipython",
    "version": 3
   },
   "file_extension": ".py",
   "mimetype": "text/x-python",
   "name": "python",
   "nbconvert_exporter": "python",
   "pygments_lexer": "ipython3",
   "version": "3.9.7"
  }
 },
 "nbformat": 4,
 "nbformat_minor": 5
}
