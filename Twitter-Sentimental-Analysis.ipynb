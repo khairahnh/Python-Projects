{
 "cells": [
  {
   "cell_type": "code",
   "execution_count": 1,
   "id": "495cd2c8",
   "metadata": {},
   "outputs": [],
   "source": [
    "#Import libraries\n",
    "\n",
    "import pyspark \n",
    "from pyspark.sql import SparkSession \n",
    "from textblob import TextBlob \n",
    "import re \n",
    "import string "
   ]
  },
  {
   "cell_type": "code",
   "execution_count": 4,
   "id": "2a122317",
   "metadata": {},
   "outputs": [],
   "source": [
    "#Create SparkSession \n",
    "spark = SparkSession.builder.appName('ProjectADE').getOrCreate()\n"
   ]
  },
  {
   "cell_type": "code",
   "execution_count": 5,
   "id": "e9feddac-f6af-4f94-814d-2a7597a594e8",
   "metadata": {},
   "outputs": [
    {
     "data": {
      "text/plain": [
       "['Tue May 01 01:27:46 +0000 2018,leffler_iris,\"<a href=\"\"http://twitter.com\"\" rel=\"\"nofollow\"\">Twitter Web Client</a>\",,0,57,en,b\\'RT @justinsuntron: Livestream with Taiwan legislator and #blockchain advocate Jason Hsu @augama will take place tonight at 9pm PST. Link co\\'',\n",
       " ' ,,,,,,,']"
      ]
     },
     "execution_count": 5,
     "metadata": {},
     "output_type": "execute_result"
    }
   ],
   "source": [
    "#Create RDD from a text file\n",
    "\n",
    "data = spark.sparkContext.textFile(\"bitcoin.csv\")\n",
    "data.take(2)"
   ]
  },
  {
   "cell_type": "code",
   "execution_count": 6,
   "id": "556b4f8c-83dc-4c62-a40c-ee36dff6eace",
   "metadata": {},
   "outputs": [
    {
     "data": {
      "text/plain": [
       "4076"
      ]
     },
     "execution_count": 6,
     "metadata": {},
     "output_type": "execute_result"
    }
   ],
   "source": [
    "data.count()"
   ]
  },
  {
   "cell_type": "markdown",
   "id": "463caee8-b232-4525-90b0-e344301f115e",
   "metadata": {},
   "source": [
    "##### **Text Preprocessing** is an important step for **Natural Language Processing** (NLP) tasks.\n",
    "\n",
    "The preprocessing steps taken are:\n",
    "\n",
    "1. Replacing Emoticons: Replace emoticons by using a  pre-defined dictionary containing emojis along with their meaning. (eg: \":))\" to \"very happy\")\n",
    "\n",
    "2. Replacing English abbreviations: Replace English abbreviation to correct spelling. (eg: \"u\" to \"you\")\n",
    "\n",
    "3. Removing features: Remove RT,hyperlinks, @mentions and hashtag and numerical digits\n",
    "  \n",
    "4. Replacing Malay abbreviations: Replace Malay abbreviaton to correct spelling. (eg. \"sy\" to \"saya\"\n",
    "\n",
    "5. Lower casing: Each text is converted to lowercase. "
   ]
  },
  {
   "cell_type": "code",
   "execution_count": 7,
   "id": "77f76b38-3fb7-4df9-b1f5-57d9456693bd",
   "metadata": {},
   "outputs": [],
   "source": [
    "# Definining dictionary containing all emojis with their meaning.\n",
    "def resolve_emoticon(line):\n",
    "   emoticon = {\n",
    "    \t':-)' : 'smile',\n",
    "        ':)'  : 'sad',\n",
    "    \t':))' : 'very happy',\n",
    "    \t':)'  : 'happy',\n",
    "    \t':((' : 'very sad',\n",
    "    \t':('  : 'sad',\n",
    "    \t':-P' : 'tongue',\n",
    "    \t':-o' : 'gasp',\n",
    "    \t'>:-)':'angry'\n",
    "   }   \n",
    "   for key in emoticon:\n",
    "      line = line.replace(key, emoticon[key])\n",
    "   return line"
   ]
  },
  {
   "cell_type": "code",
   "execution_count": 8,
   "id": "6f2831fc-658e-4e8c-ac8a-5b43ea70c148",
   "metadata": {},
   "outputs": [],
   "source": [
    "# Defining dictionary containng English abbreviaton to correct spelling.\n",
    "\n",
    "def abb_en(line):\n",
    "   abbreviation_en = {\n",
    "    'u': 'you',\n",
    "    'thr': 'there',\n",
    "    'asap': 'as soon as possible',\n",
    "    'lv' : 'love',    \n",
    "    'c' : 'see'\n",
    "   } \n",
    "   abbrev = ' '.join (abbreviation_en.get(word, word) for word in line.split())\n",
    "   return (resolve_emoticon(abbrev))  "
   ]
  },
  {
   "cell_type": "code",
   "execution_count": 9,
   "id": "0ac6586d-6bba-4c82-a599-a1f922b7b092",
   "metadata": {},
   "outputs": [],
   "source": [
    "# Defining set containing features in the tweets such RT, hyperlinks, @mentions and hash and numerical digit. \n",
    "\n",
    "def remove_features(data_str): \n",
    "    \n",
    "   url_re= re.compile(r'https?://(\\S+)') \n",
    "   num_re= re.compile(r'(\\d+)') \n",
    "   mention_re= re.compile(r'(@|#)(\\w+)') \n",
    "   RT_re= re.compile(r'RT(\\s+)') \n",
    "    \n",
    "   data_str= str(data_str) \n",
    "   data_str= RT_re.sub(' ', data_str) # remove RT \n",
    "   data_str= url_re.sub(' ', data_str) # remove hyperlinks \\\n",
    "   data_str= mention_re.sub(' ', data_str) # remove @mentions and hash \n",
    "   data_str= num_re.sub(' ', data_str) # remove numerical digit \n",
    "     \n",
    "   return data_str"
   ]
  },
  {
   "cell_type": "code",
   "execution_count": 10,
   "id": "12a918d5-9e4e-4c5e-9d13-753f82c5a14e",
   "metadata": {},
   "outputs": [],
   "source": [
    "# Create function to obtain sentiment category\n",
    "def categorize_polarity(x):\n",
    "    if x > 0:\n",
    "        return 'Positive'\n",
    "    elif x < 0:\n",
    "        return 'Negative'\n",
    "    else:\n",
    "        return 'Neutral'\n",
    " "
   ]
  },
  {
   "cell_type": "code",
   "execution_count": 11,
   "id": "9ee902d7-08c0-4328-9591-19dbfe3e5c22",
   "metadata": {},
   "outputs": [
    {
     "name": "stderr",
     "output_type": "stream",
     "text": [
      "                                                                                \r"
     ]
    },
    {
     "data": {
      "text/plain": [
       "['Neutral', 'Positive']"
      ]
     },
     "execution_count": 11,
     "metadata": {},
     "output_type": "execute_result"
    }
   ],
   "source": [
    "sentiment_polarity = spark.sparkContext.textFile(\"bitcoin.csv\") \\\n",
    ".map(lambda x:x.split(',')) \\\n",
    ".filter(lambda x:len(x) == 8) \\\n",
    ".filter(lambda x:len(x[0]) > 1) \\\n",
    ".map(lambda x:x[7])\\\n",
    ".map(lambda x:str(x).lower()) \\\n",
    ".map(lambda x:x.replace(\"'\", \"\")) \\\n",
    ".map(lambda x:x.replace('\"', '')) \\\n",
    ".map(lambda x:resolve_emoticon(x))\\\n",
    ".map(lambda x:remove_features(x))\\\n",
    ".map(lambda x:abb_en(x))\\\n",
    ".map(lambda x:TextBlob(x).sentiment.polarity)\\\n",
    ".map(lambda x:categorize_polarity(x))\n",
    "\n",
    "\n",
    "sentiment_polarity.take(2)"
   ]
  },
  {
   "cell_type": "code",
   "execution_count": 12,
   "id": "fed3fe5f-a7b2-49af-b8e1-99ec6d736ea6",
   "metadata": {},
   "outputs": [
    {
     "name": "stderr",
     "output_type": "stream",
     "text": [
      "                                                                                \r"
     ]
    },
    {
     "data": {
      "text/plain": [
       "1180"
      ]
     },
     "execution_count": 12,
     "metadata": {},
     "output_type": "execute_result"
    }
   ],
   "source": [
    "sentiment_polarity.count()"
   ]
  },
  {
   "cell_type": "code",
   "execution_count": 13,
   "id": "321914a1-cea9-446b-b1a6-7c3acb4b1414",
   "metadata": {},
   "outputs": [
    {
     "data": {
      "text/plain": [
       "['brt justinsuntron: livestream with taiwan legislator and blockchain advocate jason hsu augama will take place tonight at 9pm pst. link co',\n",
       " 'brt murthaburke: get healthy with some coconut based oils! \\\\nhttps://t.co/aov8ndtxys \\\\nblockchain cryptocurrency crypto ethereum trapadr',\n",
       " 'brt silentwhstlblwr: breaking: $link succesfully executes smartcontract live ropsten etherscan testnet. chainlink use cases are infinite']"
      ]
     },
     "execution_count": 13,
     "metadata": {},
     "output_type": "execute_result"
    }
   ],
   "source": [
    "text = spark.sparkContext.textFile('bitcoin.csv')\\\n",
    ".map(lambda x:x.split(','))\\\n",
    ".filter(lambda x:len(x)==8)\\\n",
    ".filter(lambda x:len(x[0])>1)\\\n",
    ".map(lambda x:x[7])\\\n",
    ".map(lambda x:str(x).lower())\\\n",
    ".map(lambda x:x.replace(\"'\", \"\"))\\\n",
    ".map(lambda x:x.replace('\"', ''))\\\n",
    ".map(lambda x:x.replace(r')', ''))\\\n",
    ".map(lambda x:x.replace(r'(', ''))\\\n",
    ".map(lambda x:x.replace(r'@', ''))\\\n",
    ".map(lambda x:x.replace(r'#', ''))\n",
    "\n",
    " \n",
    "\n",
    "text.take(3)"
   ]
  },
  {
   "cell_type": "code",
   "execution_count": 14,
   "id": "f8ac3817-33d6-4e65-a3e0-56daf9acb39a",
   "metadata": {},
   "outputs": [
    {
     "data": {
      "text/plain": [
       "['Tue May 01 01:27:46 +0000 2018', 'Tue May 01 01:27:46 +0000 2018']"
      ]
     },
     "execution_count": 14,
     "metadata": {},
     "output_type": "execute_result"
    }
   ],
   "source": [
    "created_at = spark.sparkContext.textFile('bitcoin.csv')\\\n",
    ".map(lambda x:x.split(','))\\\n",
    ".filter(lambda x:len(x)==8)\\\n",
    ".filter(lambda x:len(x[0])>1)\\\n",
    ".map(lambda x:x[0]) \\\n",
    ".map(lambda x:str(x).replace(\"'\", \"\"))\\\n",
    ".map(lambda x:str(x).replace('\"', ''))\n",
    " \n",
    "created_at.take(2)"
   ]
  },
  {
   "cell_type": "code",
   "execution_count": 15,
   "id": "4b260aca-69e6-443f-9ff9-dc646fff95bc",
   "metadata": {},
   "outputs": [
    {
     "data": {
      "text/plain": [
       "['Tue May 01 01:27:46 +0000 2018, brt justinsuntron: livestream with taiwan legislator and blockchain advocate jason hsu augama will take place tonight at 9pm pst. link co',\n",
       " 'Tue May 01 01:27:46 +0000 2018, brt murthaburke: get healthy with some coconut based oils! nhttps://t.co/aov8ndtxys nblockchain cryptocurrency crypto ethereum trapadr',\n",
       " 'Tue May 01 01:27:46 +0000 2018, brt silentwhstlblwr: breaking: $link succesfully executes smartcontract live ropsten etherscan testnet. chainlink use cases are infinite']"
      ]
     },
     "execution_count": 15,
     "metadata": {},
     "output_type": "execute_result"
    }
   ],
   "source": [
    "#I want 'created_at' to be index [0] and text to be index [1]\n",
    "\n",
    "combine = created_at.zip(text)\\\n",
    ".map(lambda x:str(x).replace(\"'\", \"\"))\\\n",
    ".map(lambda x:str(x).replace('\"', ''))\\\n",
    ".map(lambda x:str(x).replace(r')', ''))\\\n",
    ".map(lambda x:str(x).replace(r'(', ''))\\\n",
    ".map(lambda x:str(x).replace('\\\\\\\\', ''))\n",
    "\n",
    "                              \n",
    "combine.take(3)"
   ]
  },
  {
   "cell_type": "code",
   "execution_count": 16,
   "id": "0d3b9af1-3b0b-4891-bbfb-a477217602f2",
   "metadata": {},
   "outputs": [
    {
     "data": {
      "text/plain": [
       "['leffler_iris, <a href=http://twitter.com rel=nofollow>twitter web client</a>, , 0, 57, en',\n",
       " 'bmqxrxperymoht1, <a href=http://twitter.com rel=nofollow>twitter web client</a>, , 0, 60, en',\n",
       " 'joshuahinson9, <a href=http://twitter.com/download/iphone rel=nofollow>twitter for iphone</a>, , 97, 449, en']"
      ]
     },
     "execution_count": 16,
     "metadata": {},
     "output_type": "execute_result"
    }
   ],
   "source": [
    "theData = spark.sparkContext.textFile('bitcoin.csv')\\\n",
    ".map(lambda x:x.split(','))\\\n",
    ".filter(lambda x:len(x)==8)\\\n",
    ".filter(lambda x:len(x[0])>1)\\\n",
    ".map(lambda x:x[1:7])\\\n",
    ".map(lambda x:str(x).lower())\\\n",
    ".map(lambda x:x.replace(\"'\", \"\"))\\\n",
    ".map(lambda x:x.replace('\"', ''))\\\n",
    ".map(lambda x:x.replace(r'[', ''))\\\n",
    ".map(lambda x:x.replace(r']', ''))\n",
    "\n",
    "\n",
    "theData.take(3)"
   ]
  },
  {
   "cell_type": "code",
   "execution_count": 17,
   "id": "0b8fd27e-156a-4816-88ac-1450883ea68a",
   "metadata": {},
   "outputs": [
    {
     "name": "stderr",
     "output_type": "stream",
     "text": [
      "                                                                                \r"
     ]
    },
    {
     "data": {
      "text/plain": [
       "['Tue May 01 01:27:46 +0000 2018, brt justinsuntron: livestream with taiwan legislator and blockchain advocate jason hsu augama will take place tonight at 9pm pst. link co, leffler_iris, <a href=http://twitter.com rel=nofollow>twitter web client</a>, , 0, 57, en, Neutral']"
      ]
     },
     "execution_count": 17,
     "metadata": {},
     "output_type": "execute_result"
    }
   ],
   "source": [
    "#I want the sentiment_polarity to be at the end. So zip it with the rest of the data. \n",
    "\n",
    "bitcoinRDD = combine.zip(theData).zip(sentiment_polarity)\\\n",
    ".map(lambda x:str(x).replace(\"'\", \"\"))\\\n",
    ".map(lambda x:str(x).replace('\"', ''))\\\n",
    ".map(lambda x:str(x).replace(r')', ''))\\\n",
    ".map(lambda x:str(x).replace(r'(', ''))\n",
    " \n",
    "bitcoinRDD.take(1)"
   ]
  },
  {
   "cell_type": "code",
   "execution_count": 18,
   "id": "14cd2431-aa3a-482e-b84a-1752d0c15599",
   "metadata": {},
   "outputs": [
    {
     "data": {
      "text/plain": [
       "2"
      ]
     },
     "execution_count": 18,
     "metadata": {},
     "output_type": "execute_result"
    }
   ],
   "source": [
    "#Check the partitions\n",
    "\n",
    "bitcoinRDD.getNumPartitions()"
   ]
  },
  {
   "cell_type": "code",
   "execution_count": 19,
   "id": "f3055086-1a93-4462-bd4d-122aac0c9295",
   "metadata": {},
   "outputs": [],
   "source": [
    "# I decided to change the partition to 1. The data is isn't that big. \n",
    "\n",
    "bitcoinRDD2 = bitcoinRDD.repartition(1)"
   ]
  },
  {
   "cell_type": "code",
   "execution_count": 20,
   "id": "d5bdfd84-2bbf-43ea-86e4-1fec4248c7ea",
   "metadata": {},
   "outputs": [
    {
     "data": {
      "text/plain": [
       "1"
      ]
     },
     "execution_count": 20,
     "metadata": {},
     "output_type": "execute_result"
    }
   ],
   "source": [
    "bitcoinRDD2.getNumPartitions()"
   ]
  },
  {
   "cell_type": "code",
   "execution_count": 21,
   "id": "6af65296-996d-46ae-9074-d87e409dee1e",
   "metadata": {},
   "outputs": [
    {
     "name": "stderr",
     "output_type": "stream",
     "text": [
      "[Stage 10:>                                                         (0 + 2) / 2]\r"
     ]
    },
    {
     "name": "stdout",
     "output_type": "stream",
     "text": [
      "1180\n"
     ]
    },
    {
     "name": "stderr",
     "output_type": "stream",
     "text": [
      "                                                                                \r"
     ]
    }
   ],
   "source": [
    "#Save the files in text file \n",
    "\n",
    "bitcoinRDD2.saveAsTextFile(\"ProjectADE\")\n",
    "print(bitcoinRDD2.count())"
   ]
  },
  {
   "cell_type": "code",
   "execution_count": null,
   "id": "304f9426-453c-4cd2-a8ab-63b897cb0222",
   "metadata": {},
   "outputs": [],
   "source": []
  }
 ],
 "metadata": {
  "kernelspec": {
   "display_name": "Python 3 (ipykernel)",
   "language": "python",
   "name": "python3"
  },
  "language_info": {
   "codemirror_mode": {
    "name": "ipython",
    "version": 3
   },
   "file_extension": ".py",
   "mimetype": "text/x-python",
   "name": "python",
   "nbconvert_exporter": "python",
   "pygments_lexer": "ipython3",
   "version": "3.9.7"
  }
 },
 "nbformat": 4,
 "nbformat_minor": 5
}
