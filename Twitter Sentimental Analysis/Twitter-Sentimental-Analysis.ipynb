{
 "cells": [
  {
   "cell_type": "markdown",
   "id": "d9d44644-2bcc-48c9-ac45-e333d50569ec",
   "metadata": {},
   "source": [
    "## 1. Import Libraries\n",
    "\n",
    "#### Import all the libraries to be used in this notebook. I prefer to do this at the beginning and added more libraries as I went along this project"
   ]
  },
  {
   "cell_type": "code",
   "execution_count": 1,
   "id": "495cd2c8",
   "metadata": {},
   "outputs": [],
   "source": [
    "import pyspark \n",
    "from pyspark.sql import SparkSession \n",
    "from textblob import TextBlob \n",
    "import re \n",
    "import string \n",
    "import pandas as pd\n",
    "import matplotlib.pyplot as plt\n",
    "import plotly.express as px"
   ]
  },
  {
   "cell_type": "code",
   "execution_count": 4,
   "id": "2a122317",
   "metadata": {},
   "outputs": [],
   "source": [
    "#Create SparkSession \n",
    "spark = SparkSession.builder.appName('ProjectADE').getOrCreate()\n"
   ]
  },
  {
   "cell_type": "code",
   "execution_count": 3,
   "id": "e9feddac-f6af-4f94-814d-2a7597a594e8",
   "metadata": {},
   "outputs": [
    {
     "name": "stderr",
     "output_type": "stream",
     "text": [
      "                                                                                \r"
     ]
    },
    {
     "data": {
      "text/plain": [
       "['Tue May 01 01:27:46 +0000 2018,leffler_iris,\"<a href=\"\"http://twitter.com\"\" rel=\"\"nofollow\"\">Twitter Web Client</a>\",,0,57,en,b\\'RT @justinsuntron: Livestream with Taiwan legislator and #blockchain advocate Jason Hsu @augama will take place tonight at 9pm PST. Link co\\'',\n",
       " ' ,,,,,,,']"
      ]
     },
     "execution_count": 3,
     "metadata": {},
     "output_type": "execute_result"
    }
   ],
   "source": [
    "#Create RDD from a text file\n",
    "\n",
    "data = spark.sparkContext.textFile(\"bitcoin.csv\")\n",
    "data.take(2)"
   ]
  },
  {
   "cell_type": "code",
   "execution_count": 5,
   "id": "556b4f8c-83dc-4c62-a40c-ee36dff6eace",
   "metadata": {},
   "outputs": [
    {
     "data": {
      "text/plain": [
       "4076"
      ]
     },
     "execution_count": 5,
     "metadata": {},
     "output_type": "execute_result"
    }
   ],
   "source": [
    "data.count() #Checking the dataset"
   ]
  },
  {
   "cell_type": "markdown",
   "id": "e14a77f7-e734-42c4-87d3-93316b9974ce",
   "metadata": {},
   "source": [
    "## 2. Tweets Processing"
   ]
  },
  {
   "cell_type": "markdown",
   "id": "463caee8-b232-4525-90b0-e344301f115e",
   "metadata": {},
   "source": [
    "##### **Text Preprocessing** is an important step for **Natural Language Processing** (NLP) tasks.\n",
    "\n",
    "The preprocessing steps taken are:\n",
    "\n",
    "1. Replacing Emoticons: Replace emoticons by using a  pre-defined dictionary containing emojis along with their meaning. (eg: \":))\" to \"very happy\")\n",
    "\n",
    "2. Replacing English abbreviations: Replace English abbreviation to correct spelling. (eg: \"u\" to \"you\")\n",
    "\n",
    "3. Removing features: Remove RT,hyperlinks, @mentions and hashtag and numerical digits\n",
    "  \n",
    "4. Lower casing: Each text is converted to lowercase. "
   ]
  },
  {
   "cell_type": "code",
   "execution_count": 6,
   "id": "77f76b38-3fb7-4df9-b1f5-57d9456693bd",
   "metadata": {},
   "outputs": [],
   "source": [
    "# Definining dictionary containing all emojis with their meaning.\n",
    "def resolve_emoticon(line):\n",
    "   emoticon = {\n",
    "    \t':-)' : 'smile',\n",
    "        ':)'  : 'sad',\n",
    "    \t':))' : 'very happy',\n",
    "    \t':)'  : 'happy',\n",
    "    \t':((' : 'very sad',\n",
    "    \t':('  : 'sad',\n",
    "    \t':-P' : 'tongue',\n",
    "    \t':-o' : 'gasp',\n",
    "    \t'>:-)':'angry'\n",
    "   }   \n",
    "   for key in emoticon:\n",
    "      line = line.replace(key, emoticon[key])\n",
    "   return line"
   ]
  },
  {
   "cell_type": "code",
   "execution_count": 7,
   "id": "6f2831fc-658e-4e8c-ac8a-5b43ea70c148",
   "metadata": {},
   "outputs": [],
   "source": [
    "# Defining dictionary containng English abbreviaton to correct spelling.\n",
    "\n",
    "def abb_en(line):\n",
    "   abbreviation_en = {\n",
    "    'u': 'you',\n",
    "    'thr': 'there',\n",
    "    'asap': 'as soon as possible',\n",
    "    'lv' : 'love',    \n",
    "    'c' : 'see'\n",
    "   } \n",
    "   abbrev = ' '.join (abbreviation_en.get(word, word) for word in line.split())\n",
    "   return (resolve_emoticon(abbrev))  "
   ]
  },
  {
   "cell_type": "code",
   "execution_count": 8,
   "id": "0ac6586d-6bba-4c82-a599-a1f922b7b092",
   "metadata": {},
   "outputs": [],
   "source": [
    "# Defining set containing features in the tweets such RT, hyperlinks, @mentions and hash and numerical digit. \n",
    "\n",
    "def remove_features(data_str): \n",
    "    \n",
    "   url_re= re.compile(r'https?://(\\S+)') \n",
    "   num_re= re.compile(r'(\\d+)') \n",
    "   mention_re= re.compile(r'(@|#)(\\w+)') \n",
    "   RT_re= re.compile(r'RT(\\s+)') \n",
    "    \n",
    "   data_str= str(data_str) \n",
    "   data_str= RT_re.sub(' ', data_str) # remove RT \n",
    "   data_str= url_re.sub(' ', data_str) # remove hyperlinks \\\n",
    "   data_str= mention_re.sub(' ', data_str) # remove @mentions and hash \n",
    "   data_str= num_re.sub(' ', data_str) # remove numerical digit \n",
    "     \n",
    "   return data_str"
   ]
  },
  {
   "cell_type": "code",
   "execution_count": 9,
   "id": "12a918d5-9e4e-4c5e-9d13-753f82c5a14e",
   "metadata": {},
   "outputs": [],
   "source": [
    "# Create function to obtain sentiment category\n",
    "def categorize_polarity(x):\n",
    "    if x > 0:\n",
    "        return 'Positive'\n",
    "    elif x < 0:\n",
    "        return 'Negative'\n",
    "    else:\n",
    "        return 'Neutral'\n",
    " "
   ]
  },
  {
   "cell_type": "markdown",
   "id": "fe1b0e6e-6446-43a4-a4ef-aea3da25f2b2",
   "metadata": {},
   "source": [
    "# 3.Building Pipeline\n",
    "\n",
    "#### Preparing a pipeline for sentiment analysis"
   ]
  },
  {
   "cell_type": "code",
   "execution_count": 10,
   "id": "9ee902d7-08c0-4328-9591-19dbfe3e5c22",
   "metadata": {},
   "outputs": [
    {
     "name": "stderr",
     "output_type": "stream",
     "text": [
      "                                                                                \r"
     ]
    },
    {
     "data": {
      "text/plain": [
       "['Neutral', 'Positive']"
      ]
     },
     "execution_count": 10,
     "metadata": {},
     "output_type": "execute_result"
    }
   ],
   "source": [
    "sentiment_polarity = spark.sparkContext.textFile(\"bitcoin.csv\") \\\n",
    ".map(lambda x:x.split(',')) \\\n",
    ".filter(lambda x:len(x) == 8) \\\n",
    ".filter(lambda x:len(x[0]) > 1) \\\n",
    ".map(lambda x:x[7])\\\n",
    ".map(lambda x:str(x).lower()) \\\n",
    ".map(lambda x:x.replace(\"'\", \"\")) \\\n",
    ".map(lambda x:x.replace('\"', '')) \\\n",
    ".map(lambda x:resolve_emoticon(x))\\\n",
    ".map(lambda x:remove_features(x))\\\n",
    ".map(lambda x:abb_en(x))\\\n",
    ".map(lambda x:TextBlob(x).sentiment.polarity)\\\n",
    ".map(lambda x:categorize_polarity(x))\n",
    "\n",
    "\n",
    "sentiment_polarity.take(2)"
   ]
  },
  {
   "cell_type": "code",
   "execution_count": 11,
   "id": "fed3fe5f-a7b2-49af-b8e1-99ec6d736ea6",
   "metadata": {},
   "outputs": [
    {
     "name": "stderr",
     "output_type": "stream",
     "text": [
      "                                                                                \r"
     ]
    },
    {
     "data": {
      "text/plain": [
       "1180"
      ]
     },
     "execution_count": 11,
     "metadata": {},
     "output_type": "execute_result"
    }
   ],
   "source": [
    "sentiment_polarity.count()"
   ]
  },
  {
   "cell_type": "code",
   "execution_count": 12,
   "id": "321914a1-cea9-446b-b1a6-7c3acb4b1414",
   "metadata": {},
   "outputs": [
    {
     "data": {
      "text/plain": [
       "['brt justinsuntron: livestream with taiwan legislator and blockchain advocate jason hsu augama will take place tonight at 9pm pst. link co',\n",
       " 'brt murthaburke: get healthy with some coconut based oils! \\\\nhttps://t.co/aov8ndtxys \\\\nblockchain cryptocurrency crypto ethereum trapadr',\n",
       " 'brt silentwhstlblwr: breaking: $link succesfully executes smartcontract live ropsten etherscan testnet. chainlink use cases are infinite']"
      ]
     },
     "execution_count": 12,
     "metadata": {},
     "output_type": "execute_result"
    }
   ],
   "source": [
    "text = spark.sparkContext.textFile('bitcoin.csv')\\\n",
    ".map(lambda x:x.split(','))\\\n",
    ".filter(lambda x:len(x)==8)\\\n",
    ".filter(lambda x:len(x[0])>1)\\\n",
    ".map(lambda x:x[7])\\\n",
    ".map(lambda x:str(x).lower())\\\n",
    ".map(lambda x:x.replace(\"'\", \"\"))\\\n",
    ".map(lambda x:x.replace('\"', ''))\\\n",
    ".map(lambda x:x.replace(r')', ''))\\\n",
    ".map(lambda x:x.replace(r'(', ''))\\\n",
    ".map(lambda x:x.replace(r'@', ''))\\\n",
    ".map(lambda x:x.replace(r'#', ''))\n",
    "\n",
    " \n",
    "\n",
    "text.take(3)"
   ]
  },
  {
   "cell_type": "code",
   "execution_count": 13,
   "id": "f8ac3817-33d6-4e65-a3e0-56daf9acb39a",
   "metadata": {},
   "outputs": [
    {
     "data": {
      "text/plain": [
       "['Tue May 01 01:27:46 +0000 2018', 'Tue May 01 01:27:46 +0000 2018']"
      ]
     },
     "execution_count": 13,
     "metadata": {},
     "output_type": "execute_result"
    }
   ],
   "source": [
    "created_at = spark.sparkContext.textFile('bitcoin.csv')\\\n",
    ".map(lambda x:x.split(','))\\\n",
    ".filter(lambda x:len(x)==8)\\\n",
    ".filter(lambda x:len(x[0])>1)\\\n",
    ".map(lambda x:x[0]) \\\n",
    ".map(lambda x:str(x).replace(\"'\", \"\"))\\\n",
    ".map(lambda x:str(x).replace('\"', ''))\n",
    " \n",
    "created_at.take(2)"
   ]
  },
  {
   "cell_type": "code",
   "execution_count": 14,
   "id": "4b260aca-69e6-443f-9ff9-dc646fff95bc",
   "metadata": {},
   "outputs": [
    {
     "data": {
      "text/plain": [
       "['Tue May 01 01:27:46 +0000 2018, brt justinsuntron: livestream with taiwan legislator and blockchain advocate jason hsu augama will take place tonight at 9pm pst. link co',\n",
       " 'Tue May 01 01:27:46 +0000 2018, brt murthaburke: get healthy with some coconut based oils! nhttps://t.co/aov8ndtxys nblockchain cryptocurrency crypto ethereum trapadr',\n",
       " 'Tue May 01 01:27:46 +0000 2018, brt silentwhstlblwr: breaking: $link succesfully executes smartcontract live ropsten etherscan testnet. chainlink use cases are infinite']"
      ]
     },
     "execution_count": 14,
     "metadata": {},
     "output_type": "execute_result"
    }
   ],
   "source": [
    "#I want 'created_at' to be index [0] and text to be index [1]\n",
    "\n",
    "combine = created_at.zip(text)\\\n",
    ".map(lambda x:str(x).replace(\"'\", \"\"))\\\n",
    ".map(lambda x:str(x).replace('\"', ''))\\\n",
    ".map(lambda x:str(x).replace(r')', ''))\\\n",
    ".map(lambda x:str(x).replace(r'(', ''))\\\n",
    ".map(lambda x:str(x).replace('\\\\\\\\', ''))\n",
    "\n",
    "                              \n",
    "combine.take(3)"
   ]
  },
  {
   "cell_type": "code",
   "execution_count": 15,
   "id": "0d3b9af1-3b0b-4891-bbfb-a477217602f2",
   "metadata": {},
   "outputs": [
    {
     "data": {
      "text/plain": [
       "['leffler_iris, <a href=http://twitter.com rel=nofollow>twitter web client</a>, , 0, 57, en',\n",
       " 'bmqxrxperymoht1, <a href=http://twitter.com rel=nofollow>twitter web client</a>, , 0, 60, en',\n",
       " 'joshuahinson9, <a href=http://twitter.com/download/iphone rel=nofollow>twitter for iphone</a>, , 97, 449, en',\n",
       " 'ndeso_bagoes, <a href=https://mobile.twitter.com rel=nofollow>twitter lite</a>, indonesia, 7304, 7426, en',\n",
       " 'ugski79zyktcc3x, <a href=http://twitter.com rel=nofollow>twitter web client</a>, , 0, 30, en',\n",
       " 'viktorkomarov5, <a href=https://nbvhmvmmh.com rel=nofollow>hgd hgeg egf </a>, amsterda, 10953, 11042, ru',\n",
       " 'kamala4812ax, <a href=http://twitter.com rel=nofollow>twitter web client</a>, , 0, 0, en',\n",
       " 'earnmoneynow24, <a href=https://www.botlibre.com rel=nofollow>bot libre!</a>, , 60, 376, en',\n",
       " 'mentari_megga, <a href=http://twitter.com rel=nofollow>twitter web client</a>, di sini|w☺n☺s☺b☺, 1345, 2604, en',\n",
       " 'vinod5473, <a href=http://twitter.com rel=nofollow>twitter web client</a>, india, 119, 611, en']"
      ]
     },
     "execution_count": 15,
     "metadata": {},
     "output_type": "execute_result"
    }
   ],
   "source": [
    "theData = spark.sparkContext.textFile('bitcoin.csv')\\\n",
    ".map(lambda x:x.split(','))\\\n",
    ".filter(lambda x:len(x)==8)\\\n",
    ".filter(lambda x:len(x[0])>1)\\\n",
    ".map(lambda x:x[1:7])\\\n",
    ".map(lambda x:str(x).lower())\\\n",
    ".map(lambda x:x.replace(\"'\", \"\"))\\\n",
    ".map(lambda x:x.replace('\"', ''))\\\n",
    ".map(lambda x:x.replace(r'[', ''))\\\n",
    ".map(lambda x:x.replace(r']', ''))\n",
    "\n",
    "\n",
    "theData.take(10)"
   ]
  },
  {
   "cell_type": "code",
   "execution_count": 16,
   "id": "0b8fd27e-156a-4816-88ac-1450883ea68a",
   "metadata": {},
   "outputs": [
    {
     "name": "stderr",
     "output_type": "stream",
     "text": [
      "                                                                                \r"
     ]
    },
    {
     "data": {
      "text/plain": [
       "['Tue May 01 01:27:46 +0000 2018, brt justinsuntron: livestream with taiwan legislator and blockchain advocate jason hsu augama will take place tonight at 9pm pst. link co, leffler_iris, <a href=http://twitter.com rel=nofollow>twitter web client</a>, , 0, 57, en, Neutral']"
      ]
     },
     "execution_count": 16,
     "metadata": {},
     "output_type": "execute_result"
    }
   ],
   "source": [
    "#I want the sentiment_polarity to be at the end. So zip it with the rest of the data. \n",
    "\n",
    "bitcoinRDD = combine.zip(theData).zip(sentiment_polarity)\\\n",
    ".map(lambda x:str(x).replace(\"'\", \"\"))\\\n",
    ".map(lambda x:str(x).replace('\"', ''))\\\n",
    ".map(lambda x:str(x).replace(r')', ''))\\\n",
    ".map(lambda x:str(x).replace(r'(', ''))\n",
    " \n",
    "bitcoinRDD.take(1)"
   ]
  },
  {
   "cell_type": "code",
   "execution_count": 17,
   "id": "14cd2431-aa3a-482e-b84a-1752d0c15599",
   "metadata": {},
   "outputs": [
    {
     "data": {
      "text/plain": [
       "2"
      ]
     },
     "execution_count": 17,
     "metadata": {},
     "output_type": "execute_result"
    }
   ],
   "source": [
    "#Check the partitions\n",
    "\n",
    "bitcoinRDD.getNumPartitions()"
   ]
  },
  {
   "cell_type": "code",
   "execution_count": 18,
   "id": "f3055086-1a93-4462-bd4d-122aac0c9295",
   "metadata": {},
   "outputs": [],
   "source": [
    "# I decided to change the partition to 1. The data isn't that big. \n",
    "\n",
    "bitcoinRDD2 = bitcoinRDD.repartition(1)"
   ]
  },
  {
   "cell_type": "code",
   "execution_count": 19,
   "id": "d5bdfd84-2bbf-43ea-86e4-1fec4248c7ea",
   "metadata": {},
   "outputs": [
    {
     "data": {
      "text/plain": [
       "1"
      ]
     },
     "execution_count": 19,
     "metadata": {},
     "output_type": "execute_result"
    }
   ],
   "source": [
    "bitcoinRDD2.getNumPartitions()"
   ]
  },
  {
   "cell_type": "code",
   "execution_count": 20,
   "id": "6af65296-996d-46ae-9074-d87e409dee1e",
   "metadata": {},
   "outputs": [
    {
     "name": "stderr",
     "output_type": "stream",
     "text": [
      "[Stage 9:=============================>                             (1 + 1) / 2]\r"
     ]
    },
    {
     "name": "stdout",
     "output_type": "stream",
     "text": [
      "1180\n"
     ]
    },
    {
     "name": "stderr",
     "output_type": "stream",
     "text": [
      "\r",
      "                                                                                \r"
     ]
    }
   ],
   "source": [
    "#Save the output in text file in a folder ProjectADE\n",
    "\n",
    "bitcoinRDD2.saveAsTextFile(\"ProjectADE\")\n",
    "print(bitcoinRDD2.count())"
   ]
  },
  {
   "cell_type": "markdown",
   "id": "7fb46721-cb83-49c5-9535-68645a65c495",
   "metadata": {},
   "source": [
    "# 4. Naming the header for the output"
   ]
  },
  {
   "cell_type": "code",
   "execution_count": 21,
   "id": "69125900-50a5-4f59-b801-cd8bba453cc4",
   "metadata": {},
   "outputs": [
    {
     "data": {
      "text/html": [
       "<div>\n",
       "<style scoped>\n",
       "    .dataframe tbody tr th:only-of-type {\n",
       "        vertical-align: middle;\n",
       "    }\n",
       "\n",
       "    .dataframe tbody tr th {\n",
       "        vertical-align: top;\n",
       "    }\n",
       "\n",
       "    .dataframe thead th {\n",
       "        text-align: right;\n",
       "    }\n",
       "</style>\n",
       "<table border=\"1\" class=\"dataframe\">\n",
       "  <thead>\n",
       "    <tr style=\"text-align: right;\">\n",
       "      <th></th>\n",
       "      <th>Tue May 01 01:27:46 +0000 2018</th>\n",
       "      <th>brt justinsuntron: livestream with taiwan legislator and blockchain advocate jason hsu augama will take place tonight at 9pm pst. link co</th>\n",
       "      <th>leffler_iris</th>\n",
       "      <th>&lt;a href=http://twitter.com rel=nofollow&gt;twitter web client&lt;/a&gt;</th>\n",
       "      <th></th>\n",
       "      <th>0</th>\n",
       "      <th>57</th>\n",
       "      <th>en</th>\n",
       "      <th>Neutral</th>\n",
       "    </tr>\n",
       "  </thead>\n",
       "  <tbody>\n",
       "    <tr>\n",
       "      <th>0</th>\n",
       "      <td>Tue May 01 01:27:46 +0000 2018</td>\n",
       "      <td>brt murthaburke: get healthy with some coconu...</td>\n",
       "      <td>bmqxrxperymoht1</td>\n",
       "      <td>&lt;a href=http://twitter.com rel=nofollow&gt;twitt...</td>\n",
       "      <td></td>\n",
       "      <td>0</td>\n",
       "      <td>60</td>\n",
       "      <td>en</td>\n",
       "      <td>Positive</td>\n",
       "    </tr>\n",
       "    <tr>\n",
       "      <th>1</th>\n",
       "      <td>Tue May 01 01:27:46 +0000 2018</td>\n",
       "      <td>brt silentwhstlblwr: breaking: $link succesfu...</td>\n",
       "      <td>joshuahinson9</td>\n",
       "      <td>&lt;a href=http://twitter.com/download/iphone re...</td>\n",
       "      <td></td>\n",
       "      <td>97</td>\n",
       "      <td>449</td>\n",
       "      <td>en</td>\n",
       "      <td>Positive</td>\n",
       "    </tr>\n",
       "    <tr>\n",
       "      <th>2</th>\n",
       "      <td>Tue May 01 01:27:46 +0000 2018</td>\n",
       "      <td>brt socialwalletinc: we are proud of our part...</td>\n",
       "      <td>ndeso_bagoes</td>\n",
       "      <td>&lt;a href=https://mobile.twitter.com rel=nofoll...</td>\n",
       "      <td>indonesia</td>\n",
       "      <td>7304</td>\n",
       "      <td>7426</td>\n",
       "      <td>en</td>\n",
       "      <td>Positive</td>\n",
       "    </tr>\n",
       "    <tr>\n",
       "      <th>3</th>\n",
       "      <td>Tue May 01 01:27:48 +0000 2018</td>\n",
       "      <td>brt userexperienceu: iot ecosystems require o...</td>\n",
       "      <td>ugski79zyktcc3x</td>\n",
       "      <td>&lt;a href=http://twitter.com rel=nofollow&gt;twitt...</td>\n",
       "      <td></td>\n",
       "      <td>0</td>\n",
       "      <td>30</td>\n",
       "      <td>en</td>\n",
       "      <td>Neutral</td>\n",
       "    </tr>\n",
       "    <tr>\n",
       "      <th>4</th>\n",
       "      <td>Tue May 01 01:27:49 +0000 2018</td>\n",
       "      <td>brt digitizecoin: digitize your loose change ...</td>\n",
       "      <td>viktorkomarov5</td>\n",
       "      <td>&lt;a href=https://nbvhmvmmh.com rel=nofollow&gt;hg...</td>\n",
       "      <td>amsterda</td>\n",
       "      <td>10953</td>\n",
       "      <td>11042</td>\n",
       "      <td>ru</td>\n",
       "      <td>Negative</td>\n",
       "    </tr>\n",
       "  </tbody>\n",
       "</table>\n",
       "</div>"
      ],
      "text/plain": [
       "   Tue May 01 01:27:46 +0000 2018  \\\n",
       "0  Tue May 01 01:27:46 +0000 2018   \n",
       "1  Tue May 01 01:27:46 +0000 2018   \n",
       "2  Tue May 01 01:27:46 +0000 2018   \n",
       "3  Tue May 01 01:27:48 +0000 2018   \n",
       "4  Tue May 01 01:27:49 +0000 2018   \n",
       "\n",
       "   brt justinsuntron: livestream with taiwan legislator and blockchain advocate jason hsu augama will take place tonight at 9pm pst. link co  \\\n",
       "0   brt murthaburke: get healthy with some coconu...                                                                                           \n",
       "1   brt silentwhstlblwr: breaking: $link succesfu...                                                                                           \n",
       "2   brt socialwalletinc: we are proud of our part...                                                                                           \n",
       "3   brt userexperienceu: iot ecosystems require o...                                                                                           \n",
       "4   brt digitizecoin: digitize your loose change ...                                                                                           \n",
       "\n",
       "       leffler_iris  \\\n",
       "0   bmqxrxperymoht1   \n",
       "1     joshuahinson9   \n",
       "2      ndeso_bagoes   \n",
       "3   ugski79zyktcc3x   \n",
       "4    viktorkomarov5   \n",
       "\n",
       "   <a href=http://twitter.com rel=nofollow>twitter web client</a>              \\\n",
       "0   <a href=http://twitter.com rel=nofollow>twitt...                            \n",
       "1   <a href=http://twitter.com/download/iphone re...                            \n",
       "2   <a href=https://mobile.twitter.com rel=nofoll...                indonesia   \n",
       "3   <a href=http://twitter.com rel=nofollow>twitt...                            \n",
       "4   <a href=https://nbvhmvmmh.com rel=nofollow>hg...                 amsterda   \n",
       "\n",
       "       0     57   en    Neutral  \n",
       "0      0     60   en   Positive  \n",
       "1     97    449   en   Positive  \n",
       "2   7304   7426   en   Positive  \n",
       "3      0     30   en    Neutral  \n",
       "4  10953  11042   ru   Negative  "
      ]
     },
     "execution_count": 21,
     "metadata": {},
     "output_type": "execute_result"
    }
   ],
   "source": [
    "label=pd.read_csv(\"part-00000\", index_col = None, header = 0)\n",
    "label.head() #check data first 5 rows. "
   ]
  },
  {
   "cell_type": "code",
   "execution_count": 22,
   "id": "93eecd82-9a79-4526-9b81-bbe55886b675",
   "metadata": {},
   "outputs": [],
   "source": [
    "#Create header for each column\n",
    "\n",
    "label.columns = [\"Created_At\", \"Text\", \"Screen_Name\", \"Source\",\"Location\", \"Followers_Count\", \"Friends_Count\", \"Language\", \"Sentiment\"] "
   ]
  },
  {
   "cell_type": "code",
   "execution_count": 24,
   "id": "bb558496-076a-41cc-b0d3-1be49bb411f9",
   "metadata": {},
   "outputs": [
    {
     "data": {
      "text/html": [
       "<div>\n",
       "<style scoped>\n",
       "    .dataframe tbody tr th:only-of-type {\n",
       "        vertical-align: middle;\n",
       "    }\n",
       "\n",
       "    .dataframe tbody tr th {\n",
       "        vertical-align: top;\n",
       "    }\n",
       "\n",
       "    .dataframe thead th {\n",
       "        text-align: right;\n",
       "    }\n",
       "</style>\n",
       "<table border=\"1\" class=\"dataframe\">\n",
       "  <thead>\n",
       "    <tr style=\"text-align: right;\">\n",
       "      <th></th>\n",
       "      <th>Created_At</th>\n",
       "      <th>Text</th>\n",
       "      <th>Screen_Name</th>\n",
       "      <th>Source</th>\n",
       "      <th>Location</th>\n",
       "      <th>Followers_Count</th>\n",
       "      <th>Friends_Count</th>\n",
       "      <th>Language</th>\n",
       "      <th>Sentiment</th>\n",
       "    </tr>\n",
       "  </thead>\n",
       "  <tbody>\n",
       "    <tr>\n",
       "      <th>0</th>\n",
       "      <td>Tue May 01 01:27:46 +0000 2018</td>\n",
       "      <td>brt murthaburke: get healthy with some coconu...</td>\n",
       "      <td>bmqxrxperymoht1</td>\n",
       "      <td>&lt;a href=http://twitter.com rel=nofollow&gt;twitt...</td>\n",
       "      <td></td>\n",
       "      <td>0</td>\n",
       "      <td>60</td>\n",
       "      <td>en</td>\n",
       "      <td>Positive</td>\n",
       "    </tr>\n",
       "    <tr>\n",
       "      <th>1</th>\n",
       "      <td>Tue May 01 01:27:46 +0000 2018</td>\n",
       "      <td>brt silentwhstlblwr: breaking: $link succesfu...</td>\n",
       "      <td>joshuahinson9</td>\n",
       "      <td>&lt;a href=http://twitter.com/download/iphone re...</td>\n",
       "      <td></td>\n",
       "      <td>97</td>\n",
       "      <td>449</td>\n",
       "      <td>en</td>\n",
       "      <td>Positive</td>\n",
       "    </tr>\n",
       "    <tr>\n",
       "      <th>2</th>\n",
       "      <td>Tue May 01 01:27:46 +0000 2018</td>\n",
       "      <td>brt socialwalletinc: we are proud of our part...</td>\n",
       "      <td>ndeso_bagoes</td>\n",
       "      <td>&lt;a href=https://mobile.twitter.com rel=nofoll...</td>\n",
       "      <td>indonesia</td>\n",
       "      <td>7304</td>\n",
       "      <td>7426</td>\n",
       "      <td>en</td>\n",
       "      <td>Positive</td>\n",
       "    </tr>\n",
       "    <tr>\n",
       "      <th>3</th>\n",
       "      <td>Tue May 01 01:27:48 +0000 2018</td>\n",
       "      <td>brt userexperienceu: iot ecosystems require o...</td>\n",
       "      <td>ugski79zyktcc3x</td>\n",
       "      <td>&lt;a href=http://twitter.com rel=nofollow&gt;twitt...</td>\n",
       "      <td></td>\n",
       "      <td>0</td>\n",
       "      <td>30</td>\n",
       "      <td>en</td>\n",
       "      <td>Neutral</td>\n",
       "    </tr>\n",
       "    <tr>\n",
       "      <th>4</th>\n",
       "      <td>Tue May 01 01:27:49 +0000 2018</td>\n",
       "      <td>brt digitizecoin: digitize your loose change ...</td>\n",
       "      <td>viktorkomarov5</td>\n",
       "      <td>&lt;a href=https://nbvhmvmmh.com rel=nofollow&gt;hg...</td>\n",
       "      <td>amsterda</td>\n",
       "      <td>10953</td>\n",
       "      <td>11042</td>\n",
       "      <td>ru</td>\n",
       "      <td>Negative</td>\n",
       "    </tr>\n",
       "  </tbody>\n",
       "</table>\n",
       "</div>"
      ],
      "text/plain": [
       "                       Created_At  \\\n",
       "0  Tue May 01 01:27:46 +0000 2018   \n",
       "1  Tue May 01 01:27:46 +0000 2018   \n",
       "2  Tue May 01 01:27:46 +0000 2018   \n",
       "3  Tue May 01 01:27:48 +0000 2018   \n",
       "4  Tue May 01 01:27:49 +0000 2018   \n",
       "\n",
       "                                                Text       Screen_Name  \\\n",
       "0   brt murthaburke: get healthy with some coconu...   bmqxrxperymoht1   \n",
       "1   brt silentwhstlblwr: breaking: $link succesfu...     joshuahinson9   \n",
       "2   brt socialwalletinc: we are proud of our part...      ndeso_bagoes   \n",
       "3   brt userexperienceu: iot ecosystems require o...   ugski79zyktcc3x   \n",
       "4   brt digitizecoin: digitize your loose change ...    viktorkomarov5   \n",
       "\n",
       "                                              Source    Location  \\\n",
       "0   <a href=http://twitter.com rel=nofollow>twitt...               \n",
       "1   <a href=http://twitter.com/download/iphone re...               \n",
       "2   <a href=https://mobile.twitter.com rel=nofoll...   indonesia   \n",
       "3   <a href=http://twitter.com rel=nofollow>twitt...               \n",
       "4   <a href=https://nbvhmvmmh.com rel=nofollow>hg...    amsterda   \n",
       "\n",
       "   Followers_Count  Friends_Count Language  Sentiment  \n",
       "0                0             60       en   Positive  \n",
       "1               97            449       en   Positive  \n",
       "2             7304           7426       en   Positive  \n",
       "3                0             30       en    Neutral  \n",
       "4            10953          11042       ru   Negative  "
      ]
     },
     "execution_count": 24,
     "metadata": {},
     "output_type": "execute_result"
    }
   ],
   "source": [
    "label.head()"
   ]
  },
  {
   "cell_type": "code",
   "execution_count": 25,
   "id": "97968dc8-2648-4b0a-9214-a1e48d195921",
   "metadata": {},
   "outputs": [],
   "source": [
    "# Save the files to a csv file\n",
    "\n",
    "label.to_csv(\"bitcoin_processed.csv\", index = False)"
   ]
  },
  {
   "cell_type": "markdown",
   "id": "e902cc88",
   "metadata": {},
   "source": [
    "## 5. Data Exploration\n"
   ]
  },
  {
   "cell_type": "code",
   "execution_count": 27,
   "id": "55bd8ec6-614b-40e8-a140-52c4c0b0b124",
   "metadata": {},
   "outputs": [],
   "source": [
    "bitcoin_df=pd.read_csv(\"bitcoin_processed.csv\")"
   ]
  },
  {
   "cell_type": "code",
   "execution_count": 28,
   "id": "5f420caa-673b-43c8-8506-6687da99adbf",
   "metadata": {},
   "outputs": [
    {
     "data": {
      "text/plain": [
       "Created_At         1179\n",
       "Text               1179\n",
       "Screen_Name        1179\n",
       "Source             1179\n",
       "Location           1179\n",
       "Followers_Count    1179\n",
       "Friends_Count      1179\n",
       "Language           1179\n",
       "Sentiment          1179\n",
       "dtype: int64"
      ]
     },
     "execution_count": 28,
     "metadata": {},
     "output_type": "execute_result"
    }
   ],
   "source": [
    "bitcoin_df.count()"
   ]
  },
  {
   "cell_type": "code",
   "execution_count": 29,
   "id": "304f9426-453c-4cd2-a8ab-63b897cb0222",
   "metadata": {},
   "outputs": [
    {
     "data": {
      "text/plain": [
       " Neutral     596\n",
       " Positive    490\n",
       " Negative     93\n",
       "Name: Sentiment, dtype: int64"
      ]
     },
     "execution_count": 29,
     "metadata": {},
     "output_type": "execute_result"
    }
   ],
   "source": [
    "bitcoin_df['Sentiment'].value_counts()"
   ]
  },
  {
   "cell_type": "code",
   "execution_count": 30,
   "id": "b1577213-24d3-4c27-a924-2c6e4d1ac79d",
   "metadata": {},
   "outputs": [],
   "source": [
    "bar_chart = bitcoin_df['Sentiment'].value_counts().rename_axis('Sentiment').to_frame('Total Tweets').reset_index()"
   ]
  },
  {
   "cell_type": "code",
   "execution_count": 31,
   "id": "c50fdb3a-34e0-400e-ad0b-51a4ad1b6d65",
   "metadata": {},
   "outputs": [
    {
     "data": {
      "text/html": [
       "<div>\n",
       "<style scoped>\n",
       "    .dataframe tbody tr th:only-of-type {\n",
       "        vertical-align: middle;\n",
       "    }\n",
       "\n",
       "    .dataframe tbody tr th {\n",
       "        vertical-align: top;\n",
       "    }\n",
       "\n",
       "    .dataframe thead th {\n",
       "        text-align: right;\n",
       "    }\n",
       "</style>\n",
       "<table border=\"1\" class=\"dataframe\">\n",
       "  <thead>\n",
       "    <tr style=\"text-align: right;\">\n",
       "      <th></th>\n",
       "      <th>Sentiment</th>\n",
       "      <th>Total Tweets</th>\n",
       "    </tr>\n",
       "  </thead>\n",
       "  <tbody>\n",
       "    <tr>\n",
       "      <th>0</th>\n",
       "      <td>Neutral</td>\n",
       "      <td>596</td>\n",
       "    </tr>\n",
       "    <tr>\n",
       "      <th>1</th>\n",
       "      <td>Positive</td>\n",
       "      <td>490</td>\n",
       "    </tr>\n",
       "    <tr>\n",
       "      <th>2</th>\n",
       "      <td>Negative</td>\n",
       "      <td>93</td>\n",
       "    </tr>\n",
       "  </tbody>\n",
       "</table>\n",
       "</div>"
      ],
      "text/plain": [
       "   Sentiment  Total Tweets\n",
       "0    Neutral           596\n",
       "1   Positive           490\n",
       "2   Negative            93"
      ]
     },
     "execution_count": 31,
     "metadata": {},
     "output_type": "execute_result"
    }
   ],
   "source": [
    "bar_chart"
   ]
  },
  {
   "cell_type": "code",
   "execution_count": 33,
   "id": "329e68ed-8eaf-42c8-904f-4a1c6d79f87e",
   "metadata": {},
   "outputs": [
    {
     "data": {
      "image/png": "[encoded data removed]"
     },
     "metadata": {},
     "output_type": "display_data"
    }
   ],
   "source": [
    "\n",
    "sentiments_barchart = px.bar(bar_chart, x = 'Sentiment', y = 'Total Tweets', color = 'Sentiment')\n",
    "sentiments_barchart.update_layout(title = 'Distribution of Sentiments Results',\n",
    "                                  margin={\"r\": 0, \"t\":30, \"l\":0, \"b\":0})\n",
    "sentiments_barchart.show(renderer = 'png')\n",
    "\n",
    "\n"
   ]
  },
  {
   "cell_type": "code",
   "execution_count": 34,
   "id": "7f96c4b0-7644-44de-abfb-6afb90605af4",
   "metadata": {},
   "outputs": [],
   "source": [
    "sentiments_barchart.write_image(\"Distribution of Sentiments Results.png\")\n"
   ]
  },
  {
   "cell_type": "markdown",
   "id": "27179ae8-609a-41c0-b461-d4e923adf2b0",
   "metadata": {},
   "source": [
    "#### Preview the result dataframe in preparation for export to Tableau"
   ]
  },
  {
   "cell_type": "code",
   "execution_count": 35,
   "id": "db4ba88d-4263-4b38-ae7c-8a5804d80ed0",
   "metadata": {},
   "outputs": [
    {
     "data": {
      "text/html": [
       "<div>\n",
       "<style scoped>\n",
       "    .dataframe tbody tr th:only-of-type {\n",
       "        vertical-align: middle;\n",
       "    }\n",
       "\n",
       "    .dataframe tbody tr th {\n",
       "        vertical-align: top;\n",
       "    }\n",
       "\n",
       "    .dataframe thead th {\n",
       "        text-align: right;\n",
       "    }\n",
       "</style>\n",
       "<table border=\"1\" class=\"dataframe\">\n",
       "  <thead>\n",
       "    <tr style=\"text-align: right;\">\n",
       "      <th></th>\n",
       "      <th>Created_At</th>\n",
       "      <th>Text</th>\n",
       "      <th>Screen_Name</th>\n",
       "      <th>Source</th>\n",
       "      <th>Location</th>\n",
       "      <th>Followers_Count</th>\n",
       "      <th>Friends_Count</th>\n",
       "      <th>Language</th>\n",
       "      <th>Sentiment</th>\n",
       "    </tr>\n",
       "  </thead>\n",
       "  <tbody>\n",
       "    <tr>\n",
       "      <th>0</th>\n",
       "      <td>Tue May 01 01:27:46 +0000 2018</td>\n",
       "      <td>brt murthaburke: get healthy with some coconu...</td>\n",
       "      <td>bmqxrxperymoht1</td>\n",
       "      <td>&lt;a href=http://twitter.com rel=nofollow&gt;twitt...</td>\n",
       "      <td></td>\n",
       "      <td>0</td>\n",
       "      <td>60</td>\n",
       "      <td>en</td>\n",
       "      <td>Positive</td>\n",
       "    </tr>\n",
       "    <tr>\n",
       "      <th>1</th>\n",
       "      <td>Tue May 01 01:27:46 +0000 2018</td>\n",
       "      <td>brt silentwhstlblwr: breaking: $link succesfu...</td>\n",
       "      <td>joshuahinson9</td>\n",
       "      <td>&lt;a href=http://twitter.com/download/iphone re...</td>\n",
       "      <td></td>\n",
       "      <td>97</td>\n",
       "      <td>449</td>\n",
       "      <td>en</td>\n",
       "      <td>Positive</td>\n",
       "    </tr>\n",
       "    <tr>\n",
       "      <th>2</th>\n",
       "      <td>Tue May 01 01:27:46 +0000 2018</td>\n",
       "      <td>brt socialwalletinc: we are proud of our part...</td>\n",
       "      <td>ndeso_bagoes</td>\n",
       "      <td>&lt;a href=https://mobile.twitter.com rel=nofoll...</td>\n",
       "      <td>indonesia</td>\n",
       "      <td>7304</td>\n",
       "      <td>7426</td>\n",
       "      <td>en</td>\n",
       "      <td>Positive</td>\n",
       "    </tr>\n",
       "    <tr>\n",
       "      <th>3</th>\n",
       "      <td>Tue May 01 01:27:48 +0000 2018</td>\n",
       "      <td>brt userexperienceu: iot ecosystems require o...</td>\n",
       "      <td>ugski79zyktcc3x</td>\n",
       "      <td>&lt;a href=http://twitter.com rel=nofollow&gt;twitt...</td>\n",
       "      <td></td>\n",
       "      <td>0</td>\n",
       "      <td>30</td>\n",
       "      <td>en</td>\n",
       "      <td>Neutral</td>\n",
       "    </tr>\n",
       "    <tr>\n",
       "      <th>4</th>\n",
       "      <td>Tue May 01 01:27:49 +0000 2018</td>\n",
       "      <td>brt digitizecoin: digitize your loose change ...</td>\n",
       "      <td>viktorkomarov5</td>\n",
       "      <td>&lt;a href=https://nbvhmvmmh.com rel=nofollow&gt;hg...</td>\n",
       "      <td>amsterda</td>\n",
       "      <td>10953</td>\n",
       "      <td>11042</td>\n",
       "      <td>ru</td>\n",
       "      <td>Negative</td>\n",
       "    </tr>\n",
       "  </tbody>\n",
       "</table>\n",
       "</div>"
      ],
      "text/plain": [
       "                       Created_At  \\\n",
       "0  Tue May 01 01:27:46 +0000 2018   \n",
       "1  Tue May 01 01:27:46 +0000 2018   \n",
       "2  Tue May 01 01:27:46 +0000 2018   \n",
       "3  Tue May 01 01:27:48 +0000 2018   \n",
       "4  Tue May 01 01:27:49 +0000 2018   \n",
       "\n",
       "                                                Text       Screen_Name  \\\n",
       "0   brt murthaburke: get healthy with some coconu...   bmqxrxperymoht1   \n",
       "1   brt silentwhstlblwr: breaking: $link succesfu...     joshuahinson9   \n",
       "2   brt socialwalletinc: we are proud of our part...      ndeso_bagoes   \n",
       "3   brt userexperienceu: iot ecosystems require o...   ugski79zyktcc3x   \n",
       "4   brt digitizecoin: digitize your loose change ...    viktorkomarov5   \n",
       "\n",
       "                                              Source    Location  \\\n",
       "0   <a href=http://twitter.com rel=nofollow>twitt...               \n",
       "1   <a href=http://twitter.com/download/iphone re...               \n",
       "2   <a href=https://mobile.twitter.com rel=nofoll...   indonesia   \n",
       "3   <a href=http://twitter.com rel=nofollow>twitt...               \n",
       "4   <a href=https://nbvhmvmmh.com rel=nofollow>hg...    amsterda   \n",
       "\n",
       "   Followers_Count  Friends_Count Language  Sentiment  \n",
       "0                0             60       en   Positive  \n",
       "1               97            449       en   Positive  \n",
       "2             7304           7426       en   Positive  \n",
       "3                0             30       en    Neutral  \n",
       "4            10953          11042       ru   Negative  "
      ]
     },
     "execution_count": 35,
     "metadata": {},
     "output_type": "execute_result"
    }
   ],
   "source": [
    "bitcoin_df.head()"
   ]
  },
  {
   "cell_type": "code",
   "execution_count": 36,
   "id": "0f22d641-b219-480c-8304-c52fcbb5bb7b",
   "metadata": {},
   "outputs": [],
   "source": [
    "# Export to Excel file. \n",
    "\n",
    "bitcoin_df.to_excel('Tweets_Bitcoin_Tableau.xlsx', encoding = 'utf-8', index = False) "
   ]
  }
 ],
 "metadata": {
  "kernelspec": {
   "display_name": "Python 3 (ipykernel)",
   "language": "python",
   "name": "python3"
  },
  "language_info": {
   "codemirror_mode": {
    "name": "ipython",
    "version": 3
   },
   "file_extension": ".py",
   "mimetype": "text/x-python",
   "name": "python",
   "nbconvert_exporter": "python",
   "pygments_lexer": "ipython3",
   "version": "3.9.7"
  }
 },
 "nbformat": 4,
 "nbformat_minor": 5
}
